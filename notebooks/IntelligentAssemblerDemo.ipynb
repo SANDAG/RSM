{
 "cells": [
  {
   "cell_type": "markdown",
   "id": "e697a9cc",
   "metadata": {},
   "source": [
    "# Intelligent Assembler Demo"
   ]
  },
  {
   "cell_type": "code",
   "execution_count": null,
   "id": "b14e32f2",
   "metadata": {
    "pycharm": {
     "name": "#%%\n"
    }
   },
   "outputs": [],
   "source": [
    "import os\n",
    "import pandas as pd\n",
    "import numpy as np"
   ]
  },
  {
   "cell_type": "code",
   "execution_count": null,
   "id": "5daa08d5",
   "metadata": {
    "pycharm": {
     "name": "#%%\n"
    }
   },
   "outputs": [],
   "source": [
    "from sandag_rsm.logging import logging_start\n",
    "logging_start()"
   ]
  },
  {
   "cell_type": "code",
   "execution_count": null,
   "id": "aa8aaa1d",
   "metadata": {
    "pycharm": {
     "name": "#%%\n"
    }
   },
   "outputs": [],
   "source": [
    "from sandag_rsm.sampler import rsm_household_sampler"
   ]
  },
  {
   "cell_type": "markdown",
   "id": "57ad047e",
   "metadata": {},
   "source": [
    "### Remote I/O"
   ]
  },
  {
   "cell_type": "code",
   "execution_count": null,
   "id": "ae286bc9",
   "metadata": {},
   "outputs": [],
   "source": [
    "data_dir = \"./data-dl/\"\n",
    "os.makedirs(data_dir, exist_ok=True)\n",
    "\n",
    "resource_url = \"https://media.githubusercontent.com/media/wsp-sag/client_sandag_rsm_resources/main/\"\n",
    "\n",
    "download_files_vector = [\n",
    "    \"indivTripData_full.csv.gz\", \n",
    "    \"jointTripData_full.csv.gz\", \n",
    "    \"indivTripData_rsm.csv.gz\", \n",
    "    \"jointTripData_rsm.csv.gz\", \n",
    "    \"hh_test.csv.gz\", \n",
    "]\n",
    "\n",
    "# for download_file in download_files_vector:\n",
    "#     r = requests.get((resource_url+download_file), allow_redirects=True)\n",
    "#     open((data_dir+download_file), 'wb').write(r.content)"
   ]
  },
  {
   "cell_type": "markdown",
   "id": "26c6e7e9",
   "metadata": {},
   "source": [
    "## Assemble Trips"
   ]
  },
  {
   "cell_type": "code",
   "execution_count": null,
   "id": "432efc53",
   "metadata": {},
   "outputs": [],
   "source": [
    "from sandag_rsm.assembler import rsm_assemble"
   ]
  },
  {
   "cell_type": "markdown",
   "id": "a89edef2",
   "metadata": {},
   "source": [
    "The function gives two outputs.  The first is the assembled trip table.\n",
    "The second is a summary of changes in trip counts by mode by household home MGRA."
   ]
  },
  {
   "cell_type": "code",
   "execution_count": null,
   "id": "eee079bc",
   "metadata": {},
   "outputs": [],
   "source": [
    "final_trips_rsm, combined_trips_by_zone = rsm_assemble(\n",
    "    \"./data-dl/indivTripData_full.csv.gz\",\n",
    "    \"./data-dl/jointTripData_full.csv.gz\",\n",
    "    \"./data-dl/indivTripData_rsm.csv.gz\",\n",
    "    \"./data-dl/jointTripData_rsm.csv.gz\",\n",
    "    \"./data-dl/hh_test.csv.gz\",\n",
    ")\n"
   ]
  },
  {
   "cell_type": "code",
   "execution_count": null,
   "id": "63d4c53e",
   "metadata": {},
   "outputs": [],
   "source": [
    "combined_trips_by_zone"
   ]
  },
  {
   "cell_type": "code",
   "execution_count": null,
   "id": "d304620e",
   "metadata": {},
   "outputs": [],
   "source": [
    "final_trips_rsm"
   ]
  }
 ],
 "metadata": {
  "kernelspec": {
   "display_name": "Python 3 (ipykernel)",
   "language": "python",
   "name": "python3"
  },
  "language_info": {
   "codemirror_mode": {
    "name": "ipython",
    "version": 3
   },
   "file_extension": ".py",
   "mimetype": "text/x-python",
   "name": "python",
   "nbconvert_exporter": "python",
   "pygments_lexer": "ipython3",
   "version": "3.9.12"
  },
  "toc": {
   "base_numbering": 1,
   "nav_menu": {},
   "number_sections": false,
   "sideBar": true,
   "skip_h1_title": false,
   "title_cell": "Table of Contents",
   "title_sidebar": "Contents",
   "toc_cell": false,
   "toc_position": {},
   "toc_section_display": true,
   "toc_window_display": false
  }
 },
 "nbformat": 4,
 "nbformat_minor": 5
}
