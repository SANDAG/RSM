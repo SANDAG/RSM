{
 "cells": [
  {
   "cell_type": "markdown",
   "id": "858a1ab6",
   "metadata": {},
   "source": [
    "# Intelligent Sampler Demo"
   ]
  },
  {
   "cell_type": "code",
   "execution_count": null,
   "id": "22f14beb",
   "metadata": {},
   "outputs": [],
   "source": [
    "import os\n",
    "import pandas as pd\n",
    "import numpy as np\n",
    "import requests"
   ]
  },
  {
   "cell_type": "code",
   "execution_count": null,
   "id": "bb58bf3e",
   "metadata": {},
   "outputs": [],
   "source": [
    "from sandag_rsm.logging import logging_start\n",
    "logging_start()"
   ]
  },
  {
   "cell_type": "code",
   "execution_count": null,
   "id": "cf5ec98c",
   "metadata": {},
   "outputs": [],
   "source": [
    "from sandag_rsm.sampler import rsm_household_sampler"
   ]
  },
  {
   "cell_type": "markdown",
   "id": "4689ba00",
   "metadata": {},
   "source": [
    "### Remote I/O"
   ]
  },
  {
   "cell_type": "code",
   "execution_count": null,
   "id": "24043fbd",
   "metadata": {},
   "outputs": [],
   "source": [
    "from sandag_rsm.data_load import get_test_file\n",
    "\n",
    "data_dir = \"./data-dl/\"\n",
    "get_test_file([\n",
    "    \"hh_test.csv.gz\", \n",
    "    \"person_test.csv.gz\", \n",
    "    \"taz_crosswalk.csv\", \n",
    "    \"accessibilities.csv\", \n",
    "    \"accessibilities_iter.csv\", \n",
    "], data_dir)"
   ]
  },
  {
   "cell_type": "markdown",
   "id": "0db25d96",
   "metadata": {},
   "source": [
    "### Temp directory for output"
   ]
  },
  {
   "cell_type": "code",
   "execution_count": null,
   "id": "78362f70",
   "metadata": {},
   "outputs": [],
   "source": [
    "import tempfile\n",
    "tempdir = tempfile.TemporaryDirectory()\n",
    "tempdir.name"
   ]
  },
  {
   "cell_type": "markdown",
   "id": "f096fc3c",
   "metadata": {},
   "source": [
    "## Original Full Household File\n",
    "This file has the original model household data, not merged TAZs."
   ]
  },
  {
   "cell_type": "code",
   "execution_count": null,
   "id": "2b0c0d5f",
   "metadata": {},
   "outputs": [],
   "source": [
    "h0 = pd.read_csv(\"data-dl/hh_test.csv.gz\")\n",
    "h0.info()"
   ]
  },
  {
   "cell_type": "markdown",
   "id": "d54e9e01",
   "metadata": {},
   "source": [
    "## Sampling without Accessilibility Changes"
   ]
  },
  {
   "cell_type": "code",
   "execution_count": null,
   "id": "d3241502",
   "metadata": {},
   "outputs": [],
   "source": [
    "h1, p1 = rsm_household_sampler(\n",
    "    input_dir=\"./data-dl\",\n",
    "    output_dir=tempdir.name,\n",
    "    input_household=\"hh_test.csv.gz\",\n",
    "    input_person=\"person_test.csv.gz\",\n",
    "    taz_crosswalk=\"taz_crosswalk.csv\",\n",
    "    output_household=\"sampled_households_1.csv\",\n",
    "    output_person=\"sampled_person_1.csv\",\n",
    ")"
   ]
  },
  {
   "cell_type": "code",
   "execution_count": null,
   "id": "a2a23a62",
   "metadata": {},
   "outputs": [],
   "source": [
    "h1.info()"
   ]
  },
  {
   "cell_type": "code",
   "execution_count": null,
   "id": "1916ba07",
   "metadata": {},
   "outputs": [],
   "source": [
    "assert h1.hhid.isin(h0.hhid).all()"
   ]
  },
  {
   "cell_type": "markdown",
   "id": "7b74d27c",
   "metadata": {},
   "source": [
    "## Sampling with Accessilibility Changes"
   ]
  },
  {
   "cell_type": "code",
   "execution_count": null,
   "id": "fef4255a",
   "metadata": {},
   "outputs": [],
   "source": [
    "h2, p2 = rsm_household_sampler(\n",
    "    input_dir=\"./data-dl\",\n",
    "    output_dir=tempdir.name,\n",
    "    prev_iter_access=\"accessibilities.csv\",\n",
    "    curr_iter_access=\"accessibilities_iter.csv\",\n",
    "    input_household=\"hh_test.csv.gz\",\n",
    "    input_person=\"person_test.csv.gz\",\n",
    "    taz_crosswalk=\"taz_crosswalk.csv\",\n",
    "    output_household=\"sampled_households_2.csv\",\n",
    "    output_person=\"sampled_person_2.csv\",\n",
    ")"
   ]
  },
  {
   "cell_type": "code",
   "execution_count": null,
   "id": "5f7bdfc8",
   "metadata": {},
   "outputs": [],
   "source": [
    "assert h2.hhid.isin(h0.hhid).all()"
   ]
  },
  {
   "cell_type": "code",
   "execution_count": null,
   "id": "5c05875e",
   "metadata": {},
   "outputs": [],
   "source": [
    "assert not h2.hhid.isin(h1.hhid).all()"
   ]
  },
  {
   "cell_type": "markdown",
   "id": "fce379e9",
   "metadata": {},
   "source": [
    "## Sampling with Study Area Defined"
   ]
  },
  {
   "cell_type": "code",
   "execution_count": null,
   "id": "fbbb52df",
   "metadata": {},
   "outputs": [],
   "source": [
    "h3, p3 = rsm_household_sampler(\n",
    "    input_dir=\"./data-dl\",\n",
    "    output_dir=tempdir.name,\n",
    "    prev_iter_access=\"accessibilities.csv\",\n",
    "    curr_iter_access=\"accessibilities_iter.csv\",\n",
    "    input_household=\"hh_test.csv.gz\",\n",
    "    input_person=\"person_test.csv.gz\",\n",
    "    taz_crosswalk=\"taz_crosswalk.csv\",\n",
    "    output_household=\"sampled_households_3.csv\",\n",
    "    output_person=\"sampled_person_3.csv\",\n",
    "    study_area=[49,50],\n",
    ")"
   ]
  },
  {
   "cell_type": "markdown",
   "id": "83ee8d2d",
   "metadata": {},
   "source": [
    "## Contrast Results"
   ]
  },
  {
   "cell_type": "code",
   "execution_count": null,
   "id": "d3234511",
   "metadata": {},
   "outputs": [],
   "source": [
    "pd.concat([h1.taz.value_counts(), h2.taz.value_counts(), h3.taz.value_counts()], axis=1, sort=True)"
   ]
  },
  {
   "cell_type": "code",
   "execution_count": null,
   "id": "478b2e29",
   "metadata": {},
   "outputs": [],
   "source": []
  }
 ],
 "metadata": {
  "kernelspec": {
   "display_name": "Python 3 (ipykernel)",
   "language": "python",
   "name": "python3"
  },
  "language_info": {
   "codemirror_mode": {
    "name": "ipython",
    "version": 3
   },
   "file_extension": ".py",
   "mimetype": "text/x-python",
   "name": "python",
   "nbconvert_exporter": "python",
   "pygments_lexer": "ipython3",
   "version": "3.10.6"
  },
  "toc": {
   "base_numbering": 1,
   "nav_menu": {},
   "number_sections": false,
   "sideBar": true,
   "skip_h1_title": false,
   "title_cell": "Table of Contents",
   "title_sidebar": "Contents",
   "toc_cell": false,
   "toc_position": {},
   "toc_section_display": true,
   "toc_window_display": false
  }
 },
 "nbformat": 4,
 "nbformat_minor": 5
}
