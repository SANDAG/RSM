{
 "cells": [
  {
   "cell_type": "markdown",
   "id": "99dbab1b",
   "metadata": {},
   "source": [
    "# Intelligent Sampler Demo"
   ]
  },
  {
   "cell_type": "code",
   "execution_count": null,
   "id": "22f14beb",
   "metadata": {},
   "outputs": [],
   "source": [
    "import os\n",
    "import pandas as pd\n",
    "import numpy as np\n",
    "import requests"
   ]
  },
  {
   "cell_type": "code",
   "execution_count": null,
   "id": "40354c8a",
   "metadata": {},
   "outputs": [],
   "source": [
    "from sandag_rsm.sampler import rsm_household_sampler"
   ]
  },
  {
   "cell_type": "markdown",
   "id": "0fa1a534",
   "metadata": {},
   "source": [
    "### Remote I/O"
   ]
  },
  {
   "cell_type": "code",
   "execution_count": null,
   "id": "80ddf024",
   "metadata": {},
   "outputs": [],
   "source": [
    "data_dir = \"./data-dl/\"\n",
    "os.makedirs(data_dir, exist_ok=True)\n",
    "\n",
    "resource_url = \"https://media.githubusercontent.com/media/wsp-sag/client_sandag_rsm_resources/main/\"\n",
    "\n",
    "mgra_filename = \"mgra13_based_input2016.csv.gz\"\n",
    "skim_filename = \"traffic_skims_AM_mini.omx\"\n",
    "trips_filename = \"trips_sample.pq\"\n",
    "download_files_vector = [\n",
    "    \"hh_test.csv.gz\", \n",
    "    \"person_test.csv.gz\", \n",
    "    \"taz_crosswalk.csv\", \n",
    "    \"accessibilities.csv\", \n",
    "    \"accessibilities_iter.csv\", \n",
    "]\n",
    "\n",
    "# for download_file in download_files_vector:\n",
    "#     r = requests.get((resource_url+download_file), allow_redirects=True)\n",
    "#     open((data_dir+download_file), 'wb').write(r.content)"
   ]
  },
  {
   "cell_type": "markdown",
   "id": "09daf71d",
   "metadata": {},
   "source": [
    "### Temp directory for output"
   ]
  },
  {
   "cell_type": "code",
   "execution_count": null,
   "id": "8c02dc1d",
   "metadata": {},
   "outputs": [],
   "source": [
    "import tempfile\n",
    "tempdir = tempfile.TemporaryDirectory()\n",
    "tempdir.name"
   ]
  },
  {
   "cell_type": "markdown",
   "id": "c82fa676",
   "metadata": {},
   "source": [
    "## Original Full Household File\n",
    "This file has the original model household data, not merged TAZs."
   ]
  },
  {
   "cell_type": "code",
   "execution_count": null,
   "id": "e157f813",
   "metadata": {},
   "outputs": [],
   "source": [
    "h0 = pd.read_csv(\"~/LocalGit/client_sandag_rsm_resources/hh_test.csv.gz\")"
   ]
  },
  {
   "cell_type": "markdown",
   "id": "faa631f7",
   "metadata": {},
   "source": [
    "## Sampling without Accessilibility Changes"
   ]
  },
  {
   "cell_type": "code",
   "execution_count": null,
   "id": "d46ca002",
   "metadata": {},
   "outputs": [],
   "source": [
    "h1, p1 = rsm_household_sampler(\n",
    "    input_dir=\"./data-dl\",\n",
    "    output_dir=tempdir.name,\n",
    "    input_household=\"hh_test.csv.gz\",\n",
    "    input_person=\"person_test.csv.gz\",\n",
    "    taz_crosswalk=\"taz_crosswalk.csv\",\n",
    "    output_household=\"sampled_households_1.csv\",\n",
    "    output_person=\"sampled_person_1.csv\",\n",
    ")"
   ]
  },
  {
   "cell_type": "markdown",
   "id": "9458cfa9",
   "metadata": {},
   "source": [
    "## Sampling with Accessilibility Changes"
   ]
  },
  {
   "cell_type": "code",
   "execution_count": null,
   "id": "91497600",
   "metadata": {},
   "outputs": [],
   "source": [
    "h2, p2 = rsm_household_sampler(\n",
    "    input_dir=\"~/LocalGit/client_sandag_rsm_resources\",\n",
    "    output_dir=tempdir.name,\n",
    "    prev_iter_access=\"accessibilities.csv\",\n",
    "    curr_iter_access=\"accessibilities_iter.csv\",\n",
    "    input_household=\"hh_test.csv.gz\",\n",
    "    input_person=\"person_test.csv.gz\",\n",
    "    taz_crosswalk=\"taz_crosswalk.csv\",\n",
    "    output_household=\"sampled_households_2.csv\",\n",
    "    output_person=\"sampled_person_2.csv\",\n",
    ")"
   ]
  },
  {
   "cell_type": "markdown",
   "id": "b085e944",
   "metadata": {},
   "source": [
    "## Sampling with Study Area Defined"
   ]
  },
  {
   "cell_type": "code",
   "execution_count": null,
   "id": "fbbb52df",
   "metadata": {},
   "outputs": [],
   "source": [
    "h3, p3 = rsm_household_sampler(\n",
    "    input_dir=\"~/LocalGit/client_sandag_rsm_resources\",\n",
    "    output_dir=tempdir.name,\n",
    "    prev_iter_access=\"accessibilities.csv\",\n",
    "    curr_iter_access=\"accessibilities_iter.csv\",\n",
    "    input_household=\"hh_test.csv.gz\",\n",
    "    input_person=\"person_test.csv.gz\",\n",
    "    taz_crosswalk=\"taz_crosswalk.csv\",\n",
    "    output_household=\"sampled_households_3.csv\",\n",
    "    output_person=\"sampled_person_3.csv\",\n",
    "    study_area=[49,50],\n",
    ")"
   ]
  }
 ],
 "metadata": {
  "kernelspec": {
   "display_name": "Python 3 (ipykernel)",
   "language": "python",
   "name": "python3"
  },
  "language_info": {
   "codemirror_mode": {
    "name": "ipython",
    "version": 3
   },
   "file_extension": ".py",
   "mimetype": "text/x-python",
   "name": "python",
   "nbconvert_exporter": "python",
   "pygments_lexer": "ipython3",
   "version": "3.9.10"
  },
  "toc": {
   "base_numbering": 1,
   "nav_menu": {},
   "number_sections": false,
   "sideBar": true,
   "skip_h1_title": false,
   "title_cell": "Table of Contents",
   "title_sidebar": "Contents",
   "toc_cell": false,
   "toc_position": {},
   "toc_section_display": true,
   "toc_window_display": false
  }
 },
 "nbformat": 4,
 "nbformat_minor": 5
}
