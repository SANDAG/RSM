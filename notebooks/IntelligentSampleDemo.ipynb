{
 "cells": [
  {
   "cell_type": "markdown",
   "id": "858a1ab6",
   "metadata": {},
   "source": [
    "# Intelligent Sampler Demo"
   ]
  },
  {
   "cell_type": "code",
   "execution_count": null,
   "id": "22f14beb",
   "metadata": {},
   "outputs": [],
   "source": [
    "import os\n",
    "import pandas as pd\n",
    "import numpy as np\n",
    "import requests"
   ]
  },
  {
   "cell_type": "code",
   "execution_count": null,
   "id": "cf5ec98c",
   "metadata": {},
   "outputs": [],
   "source": [
    "from sandag_rsm.sampler import rsm_household_sampler"
   ]
  },
  {
   "cell_type": "markdown",
   "id": "4689ba00",
   "metadata": {},
   "source": [
    "### Remote I/O"
   ]
  },
  {
   "cell_type": "code",
   "execution_count": null,
   "id": "24043fbd",
   "metadata": {},
   "outputs": [],
   "source": [
    "data_dir = \"./data-dl/\"\n",
    "os.makedirs(data_dir, exist_ok=True)\n",
    "\n",
    "resource_url = \"https://media.githubusercontent.com/media/wsp-sag/client_sandag_rsm_resources/main/\"\n",
    "\n",
    "download_files_vector = [\n",
    "    \"hh_test.csv.gz\", \n",
    "    \"person_test.csv.gz\", \n",
    "    \"taz_crosswalk.csv\", \n",
    "    \"accessibilities.csv\", \n",
    "    \"accessibilities_iter.csv\", \n",
    "]\n",
    "\n",
    "# for download_file in download_files_vector:\n",
    "#     r = requests.get((resource_url+download_file), allow_redirects=True)\n",
    "#     open((data_dir+download_file), 'wb').write(r.content)"
   ]
  },
  {
   "cell_type": "markdown",
   "id": "0db25d96",
   "metadata": {},
   "source": [
    "### Temp directory for output"
   ]
  },
  {
   "cell_type": "code",
   "execution_count": null,
   "id": "78362f70",
   "metadata": {},
   "outputs": [],
   "source": [
    "import tempfile\n",
    "tempdir = tempfile.TemporaryDirectory()\n",
    "tempdir.name"
   ]
  },
  {
   "cell_type": "markdown",
   "id": "f096fc3c",
   "metadata": {},
   "source": [
    "## Original Full Household File\n",
    "This file has the original model household data, not merged TAZs."
   ]
  },
  {
   "cell_type": "code",
   "execution_count": null,
   "id": "2b0c0d5f",
   "metadata": {},
   "outputs": [],
   "source": [
    "h0 = pd.read_csv(\"~/LocalGit/client_sandag_rsm_resources/hh_test.csv.gz\")"
   ]
  },
  {
   "cell_type": "markdown",
   "id": "d54e9e01",
   "metadata": {},
   "source": [
    "## Sampling without Accessilibility Changes"
   ]
  },
  {
   "cell_type": "code",
   "execution_count": null,
   "id": "d3241502",
   "metadata": {},
   "outputs": [],
   "source": [
    "h1, p1 = rsm_household_sampler(\n",
    "    input_dir=\"./data-dl\",\n",
    "    output_dir=tempdir.name,\n",
    "    input_household=\"hh_test.csv.gz\",\n",
    "    input_person=\"person_test.csv.gz\",\n",
    "    taz_crosswalk=\"taz_crosswalk.csv\",\n",
    "    output_household=\"sampled_households_1.csv\",\n",
    "    output_person=\"sampled_person_1.csv\",\n",
    ")"
   ]
  },
  {
   "cell_type": "markdown",
   "id": "7b74d27c",
   "metadata": {},
   "source": [
    "## Sampling with Accessilibility Changes"
   ]
  },
  {
   "cell_type": "code",
   "execution_count": null,
   "id": "fef4255a",
   "metadata": {},
   "outputs": [],
   "source": [
    "h2, p2 = rsm_household_sampler(\n",
    "    input_dir=\"~/LocalGit/client_sandag_rsm_resources\",\n",
    "    output_dir=tempdir.name,\n",
    "    prev_iter_access=\"accessibilities.csv\",\n",
    "    curr_iter_access=\"accessibilities_iter.csv\",\n",
    "    input_household=\"hh_test.csv.gz\",\n",
    "    input_person=\"person_test.csv.gz\",\n",
    "    taz_crosswalk=\"taz_crosswalk.csv\",\n",
    "    output_household=\"sampled_households_2.csv\",\n",
    "    output_person=\"sampled_person_2.csv\",\n",
    ")"
   ]
  },
  {
   "cell_type": "markdown",
   "id": "fce379e9",
   "metadata": {},
   "source": [
    "## Sampling with Study Area Defined"
   ]
  },
  {
   "cell_type": "code",
   "execution_count": null,
   "id": "fbbb52df",
   "metadata": {},
   "outputs": [],
   "source": [
    "h3, p3 = rsm_household_sampler(\n",
    "    input_dir=\"~/LocalGit/client_sandag_rsm_resources\",\n",
    "    output_dir=tempdir.name,\n",
    "    prev_iter_access=\"accessibilities.csv\",\n",
    "    curr_iter_access=\"accessibilities_iter.csv\",\n",
    "    input_household=\"hh_test.csv.gz\",\n",
    "    input_person=\"person_test.csv.gz\",\n",
    "    taz_crosswalk=\"taz_crosswalk.csv\",\n",
    "    output_household=\"sampled_households_3.csv\",\n",
    "    output_person=\"sampled_person_3.csv\",\n",
    "    study_area=[49,50],\n",
    ")"
   ]
  }
 ],
 "metadata": {
  "kernelspec": {
   "display_name": "Python 3 (ipykernel)",
   "language": "python",
   "name": "python3"
  },
  "language_info": {
   "codemirror_mode": {
    "name": "ipython",
    "version": 3
   },
   "file_extension": ".py",
   "mimetype": "text/x-python",
   "name": "python",
   "nbconvert_exporter": "python",
   "pygments_lexer": "ipython3",
   "version": "3.9.10"
  },
  "toc": {
   "base_numbering": 1,
   "nav_menu": {},
   "number_sections": false,
   "sideBar": true,
   "skip_h1_title": false,
   "title_cell": "Table of Contents",
   "title_sidebar": "Contents",
   "toc_cell": false,
   "toc_position": {},
   "toc_section_display": true,
   "toc_window_display": false
  }
 },
 "nbformat": 4,
 "nbformat_minor": 5
}
