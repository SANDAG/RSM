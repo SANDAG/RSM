{
 "cells": [
  {
   "cell_type": "code",
   "execution_count": 1,
   "id": "aa8aaa1d",
   "metadata": {},
   "outputs": [],
   "source": [
    "import os\n",
    "import pandas as pd\n",
    "import numpy as np"
   ]
  },
  {
   "cell_type": "markdown",
   "id": "44b8d8d1",
   "metadata": {},
   "source": [
    "## 1. Set directories"
   ]
  },
  {
   "cell_type": "code",
   "execution_count": 2,
   "id": "a3ff9e59",
   "metadata": {},
   "outputs": [],
   "source": [
    "output_dir_full = os.path.join(r\"C:\\VY-Projects\\sandag\\Outputs\")\n",
    "output_dir_sample = os.path.join(r\"C:\\VY-Projects\\sandag\\Outputs10percent\")"
   ]
  },
  {
   "cell_type": "markdown",
   "id": "b67ef640",
   "metadata": {},
   "source": [
    "## 2. Load trip data of original full model run"
   ]
  },
  {
   "cell_type": "code",
   "execution_count": 3,
   "id": "2ff56492",
   "metadata": {},
   "outputs": [],
   "source": [
    "#load trip data - full sample\n",
    "ind_trips_full = pd.read_csv(os.path.join(output_dir_full, 'indivTripData_3.csv.gz'))\n",
    "jnt_trips_full = pd.read_csv(os.path.join(output_dir_full, 'jointTripData_3.csv.gz'))"
   ]
  },
  {
   "cell_type": "markdown",
   "id": "86eb262f",
   "metadata": {},
   "source": [
    "## 3. Load trip data of RSM"
   ]
  },
  {
   "cell_type": "code",
   "execution_count": 4,
   "id": "5294459b",
   "metadata": {},
   "outputs": [],
   "source": [
    "ind_trips_rsm = pd.read_csv(os.path.join(output_dir_sample, 'indivTripData_1.csv'))\n",
    "jnt_trips_rsm = pd.read_csv(os.path.join(output_dir_sample, 'jointTripData_1.csv'))"
   ]
  },
  {
   "cell_type": "markdown",
   "id": "1e851fe9",
   "metadata": {},
   "source": [
    "## Function definitions"
   ]
  },
  {
   "cell_type": "code",
   "execution_count": 7,
   "id": "2d9eb64c",
   "metadata": {},
   "outputs": [],
   "source": [
    "# function to convert to final trip roster\n",
    "def convert_to_trips(indiv_trips, joint_trips):\n",
    "    joint_trips = joint_trips[['hh_id','tour_id','num_participants','trip_mode']]\n",
    "    joint_trips = joint_trips.reindex(joint_trips.index.repeat(joint_trips.num_participants)).reset_index(drop=True)\n",
    "    joint_trips = joint_trips.drop(columns = ['num_participants'])\n",
    "    \n",
    "    indiv_trips = indiv_trips[['hh_id', 'tour_id','trip_mode']]\n",
    "    trips = pd.concat([joint_trips, indiv_trips], ignore_index=True).reset_index(drop=True)\n",
    "    \n",
    "    return trips"
   ]
  },
  {
   "cell_type": "code",
   "execution_count": 33,
   "id": "1ea854d4",
   "metadata": {},
   "outputs": [],
   "source": [
    "#convert to rsm trips \n",
    "trips_rsm =  convert_to_trips(ind_trips_rsm, jnt_trips_rsm)\n",
    "trips_rsm.shape\n",
    "trips_rsm['flag'] = 1"
   ]
  },
  {
   "cell_type": "code",
   "execution_count": 21,
   "id": "5a36e124",
   "metadata": {},
   "outputs": [
    {
     "data": {
      "text/plain": [
       "(13639617, 3)"
      ]
     },
     "execution_count": 21,
     "metadata": {},
     "output_type": "execute_result"
    }
   ],
   "source": [
    "trips_org_full =  convert_to_trips(ind_trips_full, jnt_trips_full)\n",
    "trips_org_full.shape"
   ]
  },
  {
   "cell_type": "markdown",
   "id": "a9ff2a7c",
   "metadata": {},
   "source": [
    "## Create Trip roster using RSM trips and original model trips"
   ]
  },
  {
   "cell_type": "code",
   "execution_count": 42,
   "id": "84028499",
   "metadata": {},
   "outputs": [],
   "source": [
    "# get list of all hhids in trips produced by RSM\n",
    "hh_ids_rsm = list(trips_rsm['hh_id'])"
   ]
  },
  {
   "cell_type": "code",
   "execution_count": 23,
   "id": "57a13925",
   "metadata": {},
   "outputs": [],
   "source": [
    "# remove orginal model trips made by households chosen in RSM trips  \n",
    "trips_org_full_unsample_hhid = trips_full.loc[~trips_full['hh_id'].isin(hh_ids_rsm)]"
   ]
  },
  {
   "cell_type": "code",
   "execution_count": 24,
   "id": "1f57c82c",
   "metadata": {},
   "outputs": [],
   "source": [
    "# concatenate trips from rsm and orginal model\n",
    "final_trips_rsm = pd.concat([trips_rsm, trips_full_unsample_hhid], ignore_index =True).reset_index(drop=True)"
   ]
  },
  {
   "cell_type": "code",
   "execution_count": 25,
   "id": "09fd9eb2",
   "metadata": {},
   "outputs": [
    {
     "data": {
      "text/plain": [
       "(13585175, 3)"
      ]
     },
     "execution_count": 25,
     "metadata": {},
     "output_type": "execute_result"
    }
   ],
   "source": [
    "final_trips_rsm.shape"
   ]
  },
  {
   "cell_type": "markdown",
   "id": "12eab7e3",
   "metadata": {},
   "source": [
    "## Get percentage change in trips for each home zone"
   ]
  },
  {
   "cell_type": "code",
   "execution_count": 26,
   "id": "c5408fcd",
   "metadata": {},
   "outputs": [
    {
     "name": "stderr",
     "output_type": "stream",
     "text": [
      "C:\\Users\\vyadav\\AppData\\Local\\Temp\\ipykernel_12080\\2872501130.py:2: SettingWithCopyWarning: \n",
      "A value is trying to be set on a copy of a slice from a DataFrame.\n",
      "Try using .loc[row_indexer,col_indexer] = value instead\n",
      "\n",
      "See the caveats in the documentation: https://pandas.pydata.org/pandas-docs/stable/user_guide/indexing.html#returning-a-view-versus-a-copy\n",
      "  trips_org_full_sample_hhid['flag'] = 1\n"
     ]
    }
   ],
   "source": [
    "# extract trips made by houselods in RSM and Original model\n",
    "trips_org_full_sample_hhid = trips_full.loc[trips_full['hh_id'].isin(hh_ids_rsm)]\n",
    "trips_org_full_sample_hhid['flag'] = 1"
   ]
  },
  {
   "cell_type": "code",
   "execution_count": 55,
   "id": "f91bf24c",
   "metadata": {},
   "outputs": [],
   "source": [
    "#aggregating trips by hhid and trip mode - original model\n",
    "trips_org_sample_agg = trips_rsm.groupby(['hh_id', 'trip_mode'])['flag'].sum().reset_index()\n",
    "trips_org_sample_agg = trips_org_sample_agg.rename(columns = {'flag': 'trips_org'})\n",
    "\n",
    "#aggregating trips by hhid and trip mode - RSM\n",
    "trips_rsm_agg = trips_rsm.groupby(['hh_id', 'trip_mode'])['flag'].sum().reset_index()\n",
    "trips_rsm_agg = trips_rsm_agg.rename(columns = {'flag': 'trips_rsm'})\n",
    "\n",
    "#combininging trips by hhid and trip mode\n",
    "combined_trips = pd.merge(trips_org_sample_agg, trips_rsm_agg, on=['hh_id', 'trip_mode'], how = 'left') "
   ]
  },
  {
   "cell_type": "code",
   "execution_count": 56,
   "id": "ff419c31",
   "metadata": {},
   "outputs": [
    {
     "data": {
      "text/html": [
       "<div>\n",
       "<style scoped>\n",
       "    .dataframe tbody tr th:only-of-type {\n",
       "        vertical-align: middle;\n",
       "    }\n",
       "\n",
       "    .dataframe tbody tr th {\n",
       "        vertical-align: top;\n",
       "    }\n",
       "\n",
       "    .dataframe thead th {\n",
       "        text-align: right;\n",
       "    }\n",
       "</style>\n",
       "<table border=\"1\" class=\"dataframe\">\n",
       "  <thead>\n",
       "    <tr style=\"text-align: right;\">\n",
       "      <th></th>\n",
       "      <th>hh_id</th>\n",
       "      <th>trip_mode</th>\n",
       "      <th>trips_org</th>\n",
       "      <th>trips_rsm</th>\n",
       "    </tr>\n",
       "  </thead>\n",
       "  <tbody>\n",
       "    <tr>\n",
       "      <th>0</th>\n",
       "      <td>17</td>\n",
       "      <td>1</td>\n",
       "      <td>3</td>\n",
       "      <td>3</td>\n",
       "    </tr>\n",
       "    <tr>\n",
       "      <th>1</th>\n",
       "      <td>28</td>\n",
       "      <td>1</td>\n",
       "      <td>9</td>\n",
       "      <td>9</td>\n",
       "    </tr>\n",
       "    <tr>\n",
       "      <th>2</th>\n",
       "      <td>46</td>\n",
       "      <td>2</td>\n",
       "      <td>5</td>\n",
       "      <td>5</td>\n",
       "    </tr>\n",
       "    <tr>\n",
       "      <th>3</th>\n",
       "      <td>46</td>\n",
       "      <td>3</td>\n",
       "      <td>9</td>\n",
       "      <td>9</td>\n",
       "    </tr>\n",
       "    <tr>\n",
       "      <th>4</th>\n",
       "      <td>46</td>\n",
       "      <td>4</td>\n",
       "      <td>8</td>\n",
       "      <td>8</td>\n",
       "    </tr>\n",
       "    <tr>\n",
       "      <th>...</th>\n",
       "      <td>...</td>\n",
       "      <td>...</td>\n",
       "      <td>...</td>\n",
       "      <td>...</td>\n",
       "    </tr>\n",
       "    <tr>\n",
       "      <th>250666</th>\n",
       "      <td>1197099</td>\n",
       "      <td>2</td>\n",
       "      <td>1</td>\n",
       "      <td>1</td>\n",
       "    </tr>\n",
       "    <tr>\n",
       "      <th>250667</th>\n",
       "      <td>1197107</td>\n",
       "      <td>1</td>\n",
       "      <td>2</td>\n",
       "      <td>2</td>\n",
       "    </tr>\n",
       "    <tr>\n",
       "      <th>250668</th>\n",
       "      <td>1197109</td>\n",
       "      <td>2</td>\n",
       "      <td>1</td>\n",
       "      <td>1</td>\n",
       "    </tr>\n",
       "    <tr>\n",
       "      <th>250669</th>\n",
       "      <td>1197109</td>\n",
       "      <td>7</td>\n",
       "      <td>2</td>\n",
       "      <td>2</td>\n",
       "    </tr>\n",
       "    <tr>\n",
       "      <th>250670</th>\n",
       "      <td>1197125</td>\n",
       "      <td>5</td>\n",
       "      <td>2</td>\n",
       "      <td>2</td>\n",
       "    </tr>\n",
       "  </tbody>\n",
       "</table>\n",
       "<p>250671 rows × 4 columns</p>\n",
       "</div>"
      ],
      "text/plain": [
       "          hh_id  trip_mode  trips_org  trips_rsm\n",
       "0            17          1          3          3\n",
       "1            28          1          9          9\n",
       "2            46          2          5          5\n",
       "3            46          3          9          9\n",
       "4            46          4          8          8\n",
       "...         ...        ...        ...        ...\n",
       "250666  1197099          2          1          1\n",
       "250667  1197107          1          2          2\n",
       "250668  1197109          2          1          1\n",
       "250669  1197109          7          2          2\n",
       "250670  1197125          5          2          2\n",
       "\n",
       "[250671 rows x 4 columns]"
      ]
     },
     "execution_count": 56,
     "metadata": {},
     "output_type": "execute_result"
    }
   ],
   "source": [
    "combined_trips"
   ]
  },
  {
   "cell_type": "code",
   "execution_count": 57,
   "id": "ccf0f778",
   "metadata": {},
   "outputs": [],
   "source": [
    "# aggregating by Home zone \n",
    "hh_rsm = pd.read_csv(os.path.join(output_dir_sample, 'households.csv'))\n",
    "hh_rsm = hh_rsm[['hhid', 'mgra']]"
   ]
  },
  {
   "cell_type": "code",
   "execution_count": 60,
   "id": "c33960d6",
   "metadata": {},
   "outputs": [],
   "source": [
    "# attach home zone id\n",
    "combined_trips = pd.merge(combined_trips, hh_rsm, left_on = 'hh_id', right_on = 'hhid', how = 'left')"
   ]
  },
  {
   "cell_type": "code",
   "execution_count": 64,
   "id": "4425d8e3",
   "metadata": {},
   "outputs": [],
   "source": [
    "combined_trips_org = combined_trips.groupby('mgra')['trips_org'].sum().reset_index()\n",
    "combined_trips_rsm = combined_trips.groupby('mgra')['trips_rsm'].sum().reset_index()\n",
    "\n",
    "combined_trips = pd.merge(combined_trips_org, combined_trips_rsm, on = 'mgra', how = 'left')"
   ]
  },
  {
   "cell_type": "code",
   "execution_count": 66,
   "id": "4edabce6",
   "metadata": {},
   "outputs": [],
   "source": [
    "combined_trips['perc_change'] = [x/y*100 for x,y in zip(combined_trips['trips_rsm'], combined_trips['trips_rsm'])]"
   ]
  },
  {
   "cell_type": "code",
   "execution_count": 67,
   "id": "3dc194fa",
   "metadata": {},
   "outputs": [
    {
     "data": {
      "text/html": [
       "<div>\n",
       "<style scoped>\n",
       "    .dataframe tbody tr th:only-of-type {\n",
       "        vertical-align: middle;\n",
       "    }\n",
       "\n",
       "    .dataframe tbody tr th {\n",
       "        vertical-align: top;\n",
       "    }\n",
       "\n",
       "    .dataframe thead th {\n",
       "        text-align: right;\n",
       "    }\n",
       "</style>\n",
       "<table border=\"1\" class=\"dataframe\">\n",
       "  <thead>\n",
       "    <tr style=\"text-align: right;\">\n",
       "      <th></th>\n",
       "      <th>mgra</th>\n",
       "      <th>trips_org</th>\n",
       "      <th>trips_rsm</th>\n",
       "      <th>perc_change</th>\n",
       "    </tr>\n",
       "  </thead>\n",
       "  <tbody>\n",
       "    <tr>\n",
       "      <th>0</th>\n",
       "      <td>1</td>\n",
       "      <td>253</td>\n",
       "      <td>253</td>\n",
       "      <td>100.0</td>\n",
       "    </tr>\n",
       "    <tr>\n",
       "      <th>1</th>\n",
       "      <td>2</td>\n",
       "      <td>221</td>\n",
       "      <td>221</td>\n",
       "      <td>100.0</td>\n",
       "    </tr>\n",
       "    <tr>\n",
       "      <th>2</th>\n",
       "      <td>4</td>\n",
       "      <td>41</td>\n",
       "      <td>41</td>\n",
       "      <td>100.0</td>\n",
       "    </tr>\n",
       "    <tr>\n",
       "      <th>3</th>\n",
       "      <td>6</td>\n",
       "      <td>53</td>\n",
       "      <td>53</td>\n",
       "      <td>100.0</td>\n",
       "    </tr>\n",
       "    <tr>\n",
       "      <th>4</th>\n",
       "      <td>8</td>\n",
       "      <td>21</td>\n",
       "      <td>21</td>\n",
       "      <td>100.0</td>\n",
       "    </tr>\n",
       "    <tr>\n",
       "      <th>...</th>\n",
       "      <td>...</td>\n",
       "      <td>...</td>\n",
       "      <td>...</td>\n",
       "      <td>...</td>\n",
       "    </tr>\n",
       "    <tr>\n",
       "      <th>1612</th>\n",
       "      <td>1996</td>\n",
       "      <td>3563</td>\n",
       "      <td>3563</td>\n",
       "      <td>100.0</td>\n",
       "    </tr>\n",
       "    <tr>\n",
       "      <th>1613</th>\n",
       "      <td>1997</td>\n",
       "      <td>1381</td>\n",
       "      <td>1381</td>\n",
       "      <td>100.0</td>\n",
       "    </tr>\n",
       "    <tr>\n",
       "      <th>1614</th>\n",
       "      <td>1998</td>\n",
       "      <td>1321</td>\n",
       "      <td>1321</td>\n",
       "      <td>100.0</td>\n",
       "    </tr>\n",
       "    <tr>\n",
       "      <th>1615</th>\n",
       "      <td>1999</td>\n",
       "      <td>862</td>\n",
       "      <td>862</td>\n",
       "      <td>100.0</td>\n",
       "    </tr>\n",
       "    <tr>\n",
       "      <th>1616</th>\n",
       "      <td>2000</td>\n",
       "      <td>7328</td>\n",
       "      <td>7328</td>\n",
       "      <td>100.0</td>\n",
       "    </tr>\n",
       "  </tbody>\n",
       "</table>\n",
       "<p>1617 rows × 4 columns</p>\n",
       "</div>"
      ],
      "text/plain": [
       "      mgra  trips_org  trips_rsm  perc_change\n",
       "0        1        253        253        100.0\n",
       "1        2        221        221        100.0\n",
       "2        4         41         41        100.0\n",
       "3        6         53         53        100.0\n",
       "4        8         21         21        100.0\n",
       "...    ...        ...        ...          ...\n",
       "1612  1996       3563       3563        100.0\n",
       "1613  1997       1381       1381        100.0\n",
       "1614  1998       1321       1321        100.0\n",
       "1615  1999        862        862        100.0\n",
       "1616  2000       7328       7328        100.0\n",
       "\n",
       "[1617 rows x 4 columns]"
      ]
     },
     "execution_count": 67,
     "metadata": {},
     "output_type": "execute_result"
    }
   ],
   "source": [
    "combined_trips"
   ]
  },
  {
   "cell_type": "code",
   "execution_count": 69,
   "id": "fd359b69",
   "metadata": {},
   "outputs": [
    {
     "data": {
      "text/plain": [
       "count    1617.0\n",
       "mean      100.0\n",
       "std         0.0\n",
       "min       100.0\n",
       "25%       100.0\n",
       "50%       100.0\n",
       "75%       100.0\n",
       "max       100.0\n",
       "Name: perc_change, dtype: float64"
      ]
     },
     "execution_count": 69,
     "metadata": {},
     "output_type": "execute_result"
    }
   ],
   "source": [
    "combined_trips['perc_change'].describe()"
   ]
  },
  {
   "cell_type": "code",
   "execution_count": null,
   "id": "eec7d4e4",
   "metadata": {},
   "outputs": [],
   "source": []
  },
  {
   "cell_type": "code",
   "execution_count": null,
   "id": "0761a9f7",
   "metadata": {},
   "outputs": [],
   "source": [
    "#INFO"
   ]
  },
  {
   "cell_type": "code",
   "execution_count": 5,
   "id": "25c9a956",
   "metadata": {},
   "outputs": [
    {
     "data": {
      "text/plain": [
       "Index(['hh_id', 'person_id', 'person_num', 'tour_id', 'stop_id', 'inbound',\n",
       "       'tour_purpose', 'orig_purpose', 'dest_purpose', 'orig_mgra',\n",
       "       'dest_mgra', 'parking_mgra', 'stop_period', 'trip_mode', 'av_avail',\n",
       "       'trip_board_tap', 'trip_alight_tap', 'set', 'tour_mode', 'driver_pnum',\n",
       "       'orig_escort_stoptype', 'orig_escortee_pnum', 'dest_escort_stoptype',\n",
       "       'dest_escortee_pnum', 'valueOfTime', 'transponder_avail',\n",
       "       'micro_walkMode', 'micro_trnAcc', 'micro_trnEgr', 'parkingCost'],\n",
       "      dtype='object')"
      ]
     },
     "execution_count": 5,
     "metadata": {},
     "output_type": "execute_result"
    }
   ],
   "source": [
    "ind_trips_full.columns"
   ]
  },
  {
   "cell_type": "code",
   "execution_count": 6,
   "id": "1185fd3b",
   "metadata": {},
   "outputs": [
    {
     "data": {
      "text/plain": [
       "Index(['hh_id', 'tour_id', 'stop_id', 'inbound', 'tour_purpose',\n",
       "       'orig_purpose', 'dest_purpose', 'orig_mgra', 'dest_mgra',\n",
       "       'parking_mgra', 'stop_period', 'trip_mode', 'av_avail',\n",
       "       'num_participants', 'trip_board_tap', 'trip_alight_tap', 'set',\n",
       "       'tour_mode', 'valueOfTime', 'transponder_avail', 'parkingCost'],\n",
       "      dtype='object')"
      ]
     },
     "execution_count": 6,
     "metadata": {},
     "output_type": "execute_result"
    }
   ],
   "source": [
    "jnt_trips_full.columns"
   ]
  },
  {
   "cell_type": "code",
   "execution_count": 9,
   "id": "3e7e2843",
   "metadata": {},
   "outputs": [
    {
     "data": {
      "text/plain": [
       "Index(['hh_id', 'person_id', 'person_num', 'tour_id', 'stop_id', 'inbound',\n",
       "       'tour_purpose', 'orig_purpose', 'dest_purpose', 'orig_mgra',\n",
       "       'dest_mgra', 'parking_mgra', 'stop_period', 'trip_mode', 'av_avail',\n",
       "       'trip_board_tap', 'trip_alight_tap', 'set', 'tour_mode', 'driver_pnum',\n",
       "       'orig_escort_stoptype', 'orig_escortee_pnum', 'dest_escort_stoptype',\n",
       "       'dest_escortee_pnum', 'valueOfTime', 'transponder_avail',\n",
       "       'micro_walkMode', 'micro_trnAcc', 'micro_trnEgr', 'parkingCost'],\n",
       "      dtype='object')"
      ]
     },
     "execution_count": 9,
     "metadata": {},
     "output_type": "execute_result"
    }
   ],
   "source": [
    "ind_trips_rsm.columns"
   ]
  },
  {
   "cell_type": "code",
   "execution_count": 8,
   "id": "6bba3072",
   "metadata": {},
   "outputs": [
    {
     "data": {
      "text/plain": [
       "Index(['hh_id', 'tour_id', 'stop_id', 'inbound', 'tour_purpose',\n",
       "       'orig_purpose', 'dest_purpose', 'orig_mgra', 'dest_mgra',\n",
       "       'parking_mgra', 'stop_period', 'trip_mode', 'av_avail',\n",
       "       'num_participants', 'trip_board_tap', 'trip_alight_tap', 'set',\n",
       "       'tour_mode', 'valueOfTime', 'transponder_avail', 'parkingCost'],\n",
       "      dtype='object')"
      ]
     },
     "execution_count": 8,
     "metadata": {},
     "output_type": "execute_result"
    }
   ],
   "source": [
    "jnt_trips_rsm.columns"
   ]
  },
  {
   "cell_type": "code",
   "execution_count": null,
   "id": "cda98e67",
   "metadata": {},
   "outputs": [],
   "source": [
    "tour0 = jot_tour[,.(hh_id,tour_id,tour_participants,tour_mode)]"
   ]
  },
  {
   "cell_type": "code",
   "execution_count": 15,
   "id": "2d00028c",
   "metadata": {},
   "outputs": [
    {
     "name": "stdout",
     "output_type": "stream",
     "text": [
      "<class 'pandas.core.frame.DataFrame'>\n",
      "RangeIndex: 518892 entries, 0 to 518891\n",
      "Data columns (total 21 columns):\n",
      " #   Column             Non-Null Count   Dtype  \n",
      "---  ------             --------------   -----  \n",
      " 0   hh_id              518892 non-null  int64  \n",
      " 1   tour_id            518892 non-null  int64  \n",
      " 2   stop_id            518892 non-null  int64  \n",
      " 3   inbound            518892 non-null  int64  \n",
      " 4   tour_purpose       518892 non-null  object \n",
      " 5   orig_purpose       518892 non-null  object \n",
      " 6   dest_purpose       518892 non-null  object \n",
      " 7   orig_mgra          518892 non-null  int64  \n",
      " 8   dest_mgra          518892 non-null  int64  \n",
      " 9   parking_mgra       518892 non-null  int64  \n",
      " 10  stop_period        518892 non-null  int64  \n",
      " 11  trip_mode          518892 non-null  int64  \n",
      " 12  av_avail           518892 non-null  int64  \n",
      " 13  num_participants   518892 non-null  int64  \n",
      " 14  trip_board_tap     518892 non-null  int64  \n",
      " 15  trip_alight_tap    518892 non-null  int64  \n",
      " 16  set                518892 non-null  int64  \n",
      " 17  tour_mode          518892 non-null  int64  \n",
      " 18  valueOfTime        518892 non-null  float64\n",
      " 19  transponder_avail  518892 non-null  int64  \n",
      " 20  parkingCost        518892 non-null  float64\n",
      "dtypes: float64(2), int64(16), object(3)\n",
      "memory usage: 83.1+ MB\n"
     ]
    }
   ],
   "source": [
    "jnt_trips_full.info()"
   ]
  }
 ],
 "metadata": {
  "kernelspec": {
   "display_name": "Python [conda env:runway37] *",
   "language": "python",
   "name": "conda-env-runway37-py"
  },
  "language_info": {
   "codemirror_mode": {
    "name": "ipython",
    "version": 3
   },
   "file_extension": ".py",
   "mimetype": "text/x-python",
   "name": "python",
   "nbconvert_exporter": "python",
   "pygments_lexer": "ipython3",
   "version": "3.9.13"
  }
 },
 "nbformat": 4,
 "nbformat_minor": 5
}
