{
 "cells": [
  {
   "cell_type": "code",
   "execution_count": null,
   "id": "4fc00298",
   "metadata": {},
   "outputs": [],
   "source": [
    "import requests\n",
    "\n",
    "from sandag_rsm.data_load.zones import load_mgra_data\n",
    "from sandag_rsm.data_load.triplist import load_trip_list, trip_mode_shares_by_mgra, trip_mode_shares_by_taz\n",
    "from sandag_rsm.poi import poi_taz_mgra, attach_poi_taz_skims\n",
    "from sandag_rsm.zone_agg import aggregate_zones, viewer, viewer2, aggregate_zones_within_districts, merge_zone_data\n",
    "\n",
    "from sandag_rsm.translate import translate_demand\n",
    "import os\n",
    "import numpy as np\n",
    "import pandas as pd\n",
    "import geopandas as gpd"
   ]
  },
  {
   "cell_type": "markdown",
   "id": "de5861aa",
   "metadata": {},
   "source": [
    "## Remote I/O"
   ]
  },
  {
   "cell_type": "code",
   "execution_count": null,
   "id": "1d4896bb",
   "metadata": {},
   "outputs": [],
   "source": [
    "data_dir = \"../test/data/\"\n",
    "export_dir = \"../test/export/\"\n",
    "resource_url = \"https://media.githubusercontent.com/media/wsp-sag/client_sandag_rsm_resources/main/\""
   ]
  },
  {
   "cell_type": "code",
   "execution_count": null,
   "id": "4f6ca008",
   "metadata": {},
   "outputs": [],
   "source": [
    "skim_filename = \"traffic_skims_AM_mini.omx\"\n",
    "matrix_name = 'AM_SOV_TR_M_TIME'"
   ]
  },
  {
   "cell_type": "raw",
   "id": "9323795c-fa59-4669-bc08-56b5b4732066",
   "metadata": {},
   "source": [
    "for download_file in download_files_vector:\n",
    "    r = requests.get((resource_url+download_file), allow_redirects=True)\n",
    "    open((data_dir+download_file), 'wb').write(r.content)"
   ]
  },
  {
   "cell_type": "code",
   "execution_count": null,
   "id": "2c158043-e9cf-40c5-a8c3-c74ef9eccc1d",
   "metadata": {},
   "outputs": [],
   "source": [
    "## Create Dummy 'zone_to_cluster' Dictionary\n",
    "zone_to_cluster = {i:1+i%100 for i in range(4996)}"
   ]
  },
  {
   "cell_type": "raw",
   "id": "ad52614e-4d7d-42f9-8c4a-6239457dd0ff",
   "metadata": {},
   "source": [
    "## Use Prototype Crosswalks for Testing\n",
    "zone_to_cluster = pd.read_csv(os.path.join(data_dir, 'taz_crosswalk.csv')).sort_values('taz')\n",
    "zone_to_cluster['taz'] = zone_to_cluster['taz'] - 1\n",
    "zone_to_cluster = dict(zip(zone_to_cluster['taz'], zone_to_cluster['cluster_id']))"
   ]
  },
  {
   "cell_type": "markdown",
   "id": "fe41ea9a",
   "metadata": {},
   "source": [
    "## Demo"
   ]
  },
  {
   "cell_type": "code",
   "execution_count": null,
   "id": "458ad160-33cf-4149-94ca-b436c2a5aafb",
   "metadata": {},
   "outputs": [],
   "source": [
    "matrix_load, matrix = translate_demand(skim_filename, matrix_name, zone_to_cluster, data_dir, export_dir)"
   ]
  },
  {
   "cell_type": "code",
   "execution_count": null,
   "id": "eb4bcad1-fe01-405c-8da7-96ac040a10d6",
   "metadata": {},
   "outputs": [],
   "source": [
    "print('Loaded Matrix')\n",
    "print(f'total sum: {matrix_load.sum().sum():,.0f}\\n')\n",
    "print(matrix_load.sum().describe().apply(\"{0:,.2f}\".format))"
   ]
  },
  {
   "cell_type": "code",
   "execution_count": null,
   "id": "692ecce3-946b-4ca1-ac01-b8610991b8bc",
   "metadata": {},
   "outputs": [],
   "source": [
    "print('Aggregated Matrix')\n",
    "print(f'total sum: {matrix.sum().sum():,.0f}\\n')\n",
    "print(matrix.sum().describe().apply(\"{0:,.2f}\".format))"
   ]
  },
  {
   "cell_type": "code",
   "execution_count": null,
   "id": "c3030557-03f4-402c-8da2-306c0b4f268c",
   "metadata": {},
   "outputs": [],
   "source": [
    "matrix_load"
   ]
  },
  {
   "cell_type": "code",
   "execution_count": null,
   "id": "650baf9b-569f-424b-a703-5cb7c75110d4",
   "metadata": {},
   "outputs": [],
   "source": [
    "matrix"
   ]
  },
  {
   "cell_type": "code",
   "execution_count": null,
   "id": "a9552989-8251-445f-a3b1-4070d66c06fa",
   "metadata": {},
   "outputs": [],
   "source": []
  },
  {
   "cell_type": "markdown",
   "id": "a639d2b1-c5fd-461d-8a58-6fc26b6987a7",
   "metadata": {},
   "source": [
    "## Visualize"
   ]
  },
  {
   "cell_type": "code",
   "execution_count": null,
   "id": "b9f93146-e68b-4d62-a38f-4b655335fcdb",
   "metadata": {},
   "outputs": [],
   "source": [
    "use_cluster = 731\n",
    "use_col = f'{matrix_name}_{use_cluster}'\n",
    "\n",
    "plot_col = matrix[use_cluster].reset_index()\n",
    "plot_col.columns = ['cluster_id', use_col]"
   ]
  },
  {
   "cell_type": "code",
   "execution_count": null,
   "id": "5ac6939e-2dac-4ffa-9007-1243ec608e32",
   "metadata": {},
   "outputs": [],
   "source": [
    "mgra = gpd.read_file(os.path.join(data_dir, 'MGRASHAPE.zip'))\n",
    "mgra_xref = pd.read_csv(os.path.join(data_dir, 'mgra_crosswalk.csv'))\n",
    "\n",
    "clusters = pd.merge(mgra, mgra_xref, on='MGRA', how='left')\n",
    "clusters = clusters[['cluster_id', 'geometry']].dissolve(by='cluster_id').reset_index()\n",
    "\n",
    "clusters = pd.merge(clusters, plot_col, on='cluster_id', how='left')"
   ]
  },
  {
   "cell_type": "code",
   "execution_count": null,
   "id": "a93bd34a",
   "metadata": {},
   "outputs": [],
   "source": [
    "viewer(clusters, color=use_col, marker_line_width=0)"
   ]
  },
  {
   "cell_type": "code",
   "execution_count": null,
   "id": "da9761de-2fec-4ba5-a5c1-f0f276398195",
   "metadata": {},
   "outputs": [],
   "source": []
  }
 ],
 "metadata": {
  "kernelspec": {
   "display_name": "Python 3 (ipykernel)",
   "language": "python",
   "name": "python3"
  },
  "language_info": {
   "codemirror_mode": {
    "name": "ipython",
    "version": 3
   },
   "file_extension": ".py",
   "mimetype": "text/x-python",
   "name": "python",
   "nbconvert_exporter": "python",
   "pygments_lexer": "ipython3",
   "version": "3.9.10"
  },
  "toc": {
   "base_numbering": 1,
   "nav_menu": {},
   "number_sections": false,
   "sideBar": true,
   "skip_h1_title": false,
   "title_cell": "Table of Contents",
   "title_sidebar": "Contents",
   "toc_cell": false,
   "toc_position": {},
   "toc_section_display": true,
   "toc_window_display": false
  }
 },
 "nbformat": 4,
 "nbformat_minor": 5
}
