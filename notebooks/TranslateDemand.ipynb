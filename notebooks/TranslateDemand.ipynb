{
 "cells": [
  {
   "cell_type": "code",
   "execution_count": 18,
   "id": "4fc00298",
   "metadata": {},
   "outputs": [],
   "source": [
    "import os\n",
    "import requests\n",
    "import openmatrix as omx\n",
    "\n",
    "from sandag_rsm.translate import translate_demand"
   ]
  },
  {
   "cell_type": "markdown",
   "id": "de5861aa",
   "metadata": {},
   "source": [
    "## Remote I/O"
   ]
  },
  {
   "cell_type": "code",
   "execution_count": 12,
   "id": "1d4896bb",
   "metadata": {},
   "outputs": [],
   "source": [
    "data_dir = './data-dl/'\n",
    "\n",
    "os.makedirs(data_dir, exist_ok=True)\n",
    "\n",
    "resource_url = 'https://media.githubusercontent.com/media/wsp-sag/client_sandag_rsm_resources/main/original_omx/'\n",
    "\n",
    "download_files_vector = [\n",
    "    'trip_EA.omx',\n",
    "    'trip_AM.omx',\n",
    "    'trip_MD.omx',\n",
    "    'trip_PM.omx',\n",
    "    'trip_EV.omx',\n",
    "]\n",
    "\n",
    "# for download_file in download_files_vector:\n",
    "#     r = requests.get((resource_url+download_file), allow_redirects=True)\n",
    "#     open((data_dir+download_file), 'w').write(r.content)"
   ]
  },
  {
   "cell_type": "code",
   "execution_count": 13,
   "id": "e09fa2ee",
   "metadata": {},
   "outputs": [],
   "source": [
    "input_dir = './data-dl/'\n",
    "output_dir = './data-dl/export/'\n",
    "matrix_names = ['trip_EA.omx', 'trip_AM.omx', 'trip_MD.omx', 'trip_PM.omx', 'trip_EV.omx']\n",
    "agg_zone_mapping = './../test/data/taz_crosswalk.csv'"
   ]
  },
  {
   "cell_type": "code",
   "execution_count": 14,
   "id": "b23b92f9",
   "metadata": {},
   "outputs": [],
   "source": [
    "os.makedirs(output_dir, exist_ok=True)"
   ]
  },
  {
   "cell_type": "markdown",
   "id": "fe41ea9a",
   "metadata": {},
   "source": [
    "## Aggregate Matrices"
   ]
  },
  {
   "cell_type": "code",
   "execution_count": 15,
   "id": "458ad160-33cf-4149-94ca-b436c2a5aafb",
   "metadata": {},
   "outputs": [
    {
     "name": "stdout",
     "output_type": "stream",
     "text": [
      "[04:47.70] INFO: Agregating Matrix: trip_EA.omx ...\n",
      "[06:23.38] INFO: Agregating Matrix: trip_AM.omx ...\n",
      "[08:00.64] INFO: Agregating Matrix: trip_MD.omx ...\n",
      "[09:39.43] INFO: Agregating Matrix: trip_PM.omx ...\n",
      "[11:16.33] INFO: Agregating Matrix: trip_EV.omx ...\n"
     ]
    }
   ],
   "source": [
    "translate_demand(\n",
    "    matrix_names,\n",
    "    agg_zone_mapping,\n",
    "    input_dir,\n",
    "    output_dir\n",
    ")"
   ]
  },
  {
   "cell_type": "markdown",
   "id": "62a0c438",
   "metadata": {},
   "source": [
    "## Compare Original and Aggregated Matrices"
   ]
  },
  {
   "cell_type": "code",
   "execution_count": 16,
   "id": "cd5d0436",
   "metadata": {},
   "outputs": [],
   "source": [
    "matrix_name = 'trip_AM.omx'"
   ]
  },
  {
   "cell_type": "code",
   "execution_count": 20,
   "id": "eb4bcad1-fe01-405c-8da7-96ac040a10d6",
   "metadata": {},
   "outputs": [],
   "source": [
    "input_matrix = omx.open_file(os.path.join(input_dir, matrix_name), mode=\"r\") \n",
    "output_matrix = omx.open_file(os.path.join(output_dir, matrix_name), mode=\"r\")"
   ]
  },
  {
   "cell_type": "code",
   "execution_count": 21,
   "id": "692ecce3-946b-4ca1-ac01-b8610991b8bc",
   "metadata": {},
   "outputs": [],
   "source": [
    "matrix_cores = input_matrix.list_matrices()"
   ]
  },
  {
   "cell_type": "code",
   "execution_count": 22,
   "id": "c3030557-03f4-402c-8da2-306c0b4f268c",
   "metadata": {},
   "outputs": [
    {
     "data": {
      "text/plain": [
       "(4996, 4996)"
      ]
     },
     "execution_count": 22,
     "metadata": {},
     "output_type": "execute_result"
    }
   ],
   "source": [
    "input_matrix.shape()"
   ]
  },
  {
   "cell_type": "code",
   "execution_count": 23,
   "id": "650baf9b-569f-424b-a703-5cb7c75110d4",
   "metadata": {},
   "outputs": [
    {
     "data": {
      "text/plain": [
       "(2012, 2012)"
      ]
     },
     "execution_count": 23,
     "metadata": {},
     "output_type": "execute_result"
    }
   ],
   "source": [
    "output_matrix.shape()"
   ]
  },
  {
   "cell_type": "code",
   "execution_count": 24,
   "id": "a9552989-8251-445f-a3b1-4070d66c06fa",
   "metadata": {},
   "outputs": [
    {
     "name": "stdout",
     "output_type": "stream",
     "text": [
      "Core: AM_HOV2_H\n",
      "Input Sum: 90,480\n",
      "Output Sum: 90,480\n",
      "\n",
      "Core: AM_HOV2_L\n",
      "Input Sum: 101,330\n",
      "Output Sum: 101,330\n",
      "\n",
      "Core: AM_HOV2_M\n",
      "Input Sum: 229,308\n",
      "Output Sum: 229,308\n",
      "\n",
      "Core: AM_HOV3_H\n",
      "Input Sum: 81,707\n",
      "Output Sum: 81,707\n",
      "\n",
      "Core: AM_HOV3_L\n",
      "Input Sum: 38,662\n",
      "Output Sum: 38,662\n",
      "\n",
      "Core: AM_HOV3_M\n",
      "Input Sum: 98,403\n",
      "Output Sum: 98,403\n",
      "\n",
      "Core: AM_SOV_NT_H\n",
      "Input Sum: 222,616\n",
      "Output Sum: 222,616\n",
      "\n",
      "Core: AM_SOV_NT_L\n",
      "Input Sum: 535,342\n",
      "Output Sum: 535,342\n",
      "\n",
      "Core: AM_SOV_NT_M\n",
      "Input Sum: 426,238\n",
      "Output Sum: 426,238\n",
      "\n",
      "Core: AM_SOV_TR_H\n",
      "Input Sum: 185,345\n",
      "Output Sum: 185,345\n",
      "\n",
      "Core: AM_SOV_TR_L\n",
      "Input Sum: 21,590\n",
      "Output Sum: 21,590\n",
      "\n",
      "Core: AM_SOV_TR_M\n",
      "Input Sum: 16,563\n",
      "Output Sum: 16,563\n",
      "\n",
      "Core: AM_TRK_H\n",
      "Input Sum: 58,381\n",
      "Output Sum: 58,381\n",
      "\n",
      "Core: AM_TRK_L\n",
      "Input Sum: 32,998\n",
      "Output Sum: 32,998\n",
      "\n",
      "Core: AM_TRK_M\n",
      "Input Sum: 14,039\n",
      "Output Sum: 14,039\n",
      "\n"
     ]
    }
   ],
   "source": [
    "for core in matrix_cores:\n",
    "    input_core = input_matrix[core].read()\n",
    "    output_core = output_matrix[core].read()\n",
    "    \n",
    "    input_mtx_sum = input_core.sum().sum()\n",
    "    output_mtx_sum = input_core.sum().sum()\n",
    "    \n",
    "    print(f'Core: {core}')\n",
    "    print(f'Input Sum: {input_mtx_sum:,.0f}')\n",
    "    print(f'Output Sum: {output_mtx_sum:,.0f}\\n')\n",
    "    \n",
    "    assert output_mtx_sum == input_mtx_sum"
   ]
  },
  {
   "cell_type": "code",
   "execution_count": 25,
   "id": "da9761de-2fec-4ba5-a5c1-f0f276398195",
   "metadata": {},
   "outputs": [],
   "source": [
    "input_matrix.close()\n",
    "output_matrix.close()"
   ]
  }
 ],
 "metadata": {
  "kernelspec": {
   "display_name": "Python 3 (ipykernel)",
   "language": "python",
   "name": "python3"
  },
  "language_info": {
   "codemirror_mode": {
    "name": "ipython",
    "version": 3
   },
   "file_extension": ".py",
   "mimetype": "text/x-python",
   "name": "python",
   "nbconvert_exporter": "python",
   "pygments_lexer": "ipython3",
   "version": "3.9.12"
  },
  "toc": {
   "base_numbering": 1,
   "nav_menu": {},
   "number_sections": false,
   "sideBar": true,
   "skip_h1_title": false,
   "title_cell": "Table of Contents",
   "title_sidebar": "Contents",
   "toc_cell": false,
   "toc_position": {},
   "toc_section_display": true,
   "toc_window_display": false
  },
  "vscode": {
   "interpreter": {
    "hash": "6969d5340a2324284ea9e82958789f0af31a889f2a17dbf954a94cd3bfb1e1ef"
   }
  }
 },
 "nbformat": 4,
 "nbformat_minor": 5
}
