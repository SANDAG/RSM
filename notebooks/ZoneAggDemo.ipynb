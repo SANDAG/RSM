{
 "cells": [
  {
   "cell_type": "code",
   "execution_count": null,
   "id": "4fc00298",
   "metadata": {},
   "outputs": [],
   "source": [
    "from sandag_rsm.data_load.zones import load_mgra_data\n",
    "from sandag_rsm.data_load.triplist import load_trip_list, trip_mode_shares_by_mgra\n",
    "from sandag_rsm.poi import poi_taz_mgra, attach_poi_taz_skims\n",
    "from sandag_rsm.zone_agg import aggregate_zones, viewer, viewer2, aggregate_zones_within_districts"
   ]
  },
  {
   "cell_type": "code",
   "execution_count": null,
   "id": "b67524d3",
   "metadata": {},
   "outputs": [],
   "source": [
    "data_dir = \"~/Library/CloudStorage/OneDrive-SharedLibraries-CambridgeSystematics/PROJ SANDAG RSM - General/Data\""
   ]
  },
  {
   "cell_type": "code",
   "execution_count": null,
   "id": "c88b96b5",
   "metadata": {},
   "outputs": [],
   "source": [
    "mgra = load_mgra_data(data_dir=data_dir, simplify_tolerance=10, topo=True)"
   ]
  },
  {
   "cell_type": "code",
   "execution_count": null,
   "id": "ae5d7f1c",
   "metadata": {},
   "outputs": [],
   "source": [
    "mgra['taz20'] = mgra.taz % 20"
   ]
  },
  {
   "cell_type": "code",
   "execution_count": null,
   "id": "f3593b1c",
   "metadata": {},
   "outputs": [],
   "source": [
    "trips = load_trip_list(\"FromSANDAG-Files/indivTripData_3.csv.gz\", data_dir=data_dir)\n",
    "trip_mode_shares = trip_mode_shares_by_mgra(trips, mgras=mgra.MGRA)"
   ]
  },
  {
   "cell_type": "code",
   "execution_count": null,
   "id": "37ff7b19",
   "metadata": {},
   "outputs": [],
   "source": [
    "trip_mode_shares"
   ]
  },
  {
   "cell_type": "code",
   "execution_count": null,
   "id": "e64f7a0b",
   "metadata": {},
   "outputs": [],
   "source": [
    "mgra = mgra.join(trip_mode_shares.add_prefix(\"modeshare_\"), on='MGRA')"
   ]
  },
  {
   "cell_type": "code",
   "execution_count": null,
   "id": "65c404fa",
   "metadata": {},
   "outputs": [],
   "source": [
    "poi = poi_taz_mgra(mgra)"
   ]
  },
  {
   "cell_type": "code",
   "execution_count": null,
   "id": "569cfadc",
   "metadata": {},
   "outputs": [],
   "source": [
    "poi"
   ]
  },
  {
   "cell_type": "code",
   "execution_count": null,
   "id": "2c974741",
   "metadata": {},
   "outputs": [],
   "source": [
    "cluster_factors={'popden':1, 'empden':1, 'modeshare_NM':100, 'modeshare_WT':100}"
   ]
  },
  {
   "cell_type": "code",
   "execution_count": null,
   "id": "6cd4cee2",
   "metadata": {},
   "outputs": [],
   "source": [
    "mgra, cluster_factors = attach_poi_taz_skims(\n",
    "    mgra,\n",
    "    \"FromSANDAG-Files/traffic_skims_AM.omx\",\n",
    "    names='AM_SOV_TR_M_TIME',\n",
    "    poi=poi,\n",
    "    data_dir=data_dir,\n",
    "    cluster_factors=cluster_factors,\n",
    ")"
   ]
  },
  {
   "cell_type": "code",
   "execution_count": null,
   "id": "04f9b597",
   "metadata": {},
   "outputs": [],
   "source": [
    "d1 = mgra.query(\"district27 == 1\")"
   ]
  },
  {
   "cell_type": "code",
   "execution_count": null,
   "id": "a93bd34a",
   "metadata": {},
   "outputs": [],
   "source": [
    "viewer(d1, color='popden', marker_line_width=1)"
   ]
  },
  {
   "cell_type": "code",
   "execution_count": null,
   "id": "f66915c5",
   "metadata": {},
   "outputs": [],
   "source": [
    "# viewer(d1, color='modeshare_WT', marker_line_width=0)"
   ]
  },
  {
   "cell_type": "code",
   "execution_count": null,
   "id": "61b2c6c7",
   "metadata": {},
   "outputs": [],
   "source": [
    "# import itertools\n",
    "# cluster_factors={'popden':1, 'empden':1, 'modeshare_NM':100, 'modeshare_WT':100}\n",
    "# cluster_factors |= {f\"{i}_{j}\":1 for i,j in itertools.product(poi.keys(), ['AM_SOV_TR_M_TIME'])}\n",
    "cluster_factors"
   ]
  },
  {
   "cell_type": "code",
   "execution_count": null,
   "id": "3234d883",
   "metadata": {},
   "outputs": [],
   "source": [
    "kmeans = aggregate_zones(\n",
    "    d1, \n",
    "    cluster_factors=cluster_factors, \n",
    "    n_zones=300,\n",
    "    explicit_agg=[\n",
    "        14571, 14574, 14578, \n",
    "        [15300, 15303, 15304, 15305],\n",
    "    ],\n",
    "    use_xy=1e-6,\n",
    ")"
   ]
  },
  {
   "cell_type": "code",
   "execution_count": null,
   "id": "872ac31b",
   "metadata": {},
   "outputs": [],
   "source": [
    "from sandag_rsm.zone_agg import aggregate_zones_within_districts\n",
    "\n",
    "kmeans = aggregate_zones_within_districts(\n",
    "    mgra, \n",
    "    cluster_factors=cluster_factors, \n",
    "    n_zones=2000,\n",
    "    use_xy=1e-6,\n",
    "    explicit_agg=[\n",
    "        14571, 14574, 14578, \n",
    "        [15300, 15303, 15304, 15305],\n",
    "    ],\n",
    ")"
   ]
  },
  {
   "cell_type": "code",
   "execution_count": null,
   "id": "35211c71",
   "metadata": {},
   "outputs": [],
   "source": [
    "(kmeans)"
   ]
  },
  {
   "cell_type": "code",
   "execution_count": null,
   "id": "f5d6cd56",
   "metadata": {},
   "outputs": [],
   "source": [
    "kmeans = kmeans.reset_index(drop=True)"
   ]
  },
  {
   "cell_type": "code",
   "execution_count": null,
   "id": "7e7b56ea",
   "metadata": {},
   "outputs": [],
   "source": [
    "viewer2(edges=kmeans, colors=kmeans, color_col='empden')"
   ]
  },
  {
   "cell_type": "code",
   "execution_count": null,
   "id": "9cedfdb9",
   "metadata": {},
   "outputs": [],
   "source": []
  },
  {
   "cell_type": "code",
   "execution_count": null,
   "id": "14e60056",
   "metadata": {},
   "outputs": [],
   "source": [
    "agglom1 = aggregate_zones(d1, cluster_factors=cluster_factors, n_zones=300, method='agglom')"
   ]
  },
  {
   "cell_type": "code",
   "execution_count": null,
   "id": "abe08363",
   "metadata": {},
   "outputs": [],
   "source": [
    "# viewer2(edges=agglom1, colors=d1, color_col='popden')"
   ]
  },
  {
   "cell_type": "code",
   "execution_count": null,
   "id": "65d89c03",
   "metadata": {},
   "outputs": [],
   "source": [
    "agglom2 = aggregate_zones(\n",
    "    d1, cluster_factors=cluster_factors, \n",
    "    n_zones=300, method='agglom_adj', use_xy=False,\n",
    "    explicit_agg=[\n",
    "        14377, 14380, 14384, \n",
    "        [15107, 15108, 15106, 15101],\n",
    "    ],\n",
    ")"
   ]
  },
  {
   "cell_type": "code",
   "execution_count": null,
   "id": "b3d23e2d",
   "metadata": {},
   "outputs": [],
   "source": [
    "# viewer2(edges=agglom2, colors=d1, color_col='popden')"
   ]
  },
  {
   "cell_type": "code",
   "execution_count": null,
   "id": "cd43c71f",
   "metadata": {},
   "outputs": [],
   "source": [
    "agglom3 = aggregate_zones(\n",
    "    d1, \n",
    "    cluster_factors=cluster_factors, \n",
    "    cluster_factors_onehot={'taz':15},\n",
    "    n_zones=300, \n",
    "    method='agglom_adj', \n",
    "    use_xy=False,\n",
    "    explicit_agg=[\n",
    "        14377, 14380, 14384, \n",
    "        [15107, 15108, 15106, 15101],\n",
    "    ],\n",
    ")"
   ]
  },
  {
   "cell_type": "code",
   "execution_count": null,
   "id": "ef76f562",
   "metadata": {},
   "outputs": [],
   "source": [
    "# viewer2(edges=agglom3, colors=d1, color_col='popden')"
   ]
  },
  {
   "cell_type": "code",
   "execution_count": null,
   "id": "346536be",
   "metadata": {},
   "outputs": [],
   "source": [
    "# viewer2(edges=agglom3, colors=d1, color_col='modeshare_NM')"
   ]
  },
  {
   "cell_type": "code",
   "execution_count": null,
   "id": "00cfa00b",
   "metadata": {},
   "outputs": [],
   "source": [
    "# viewer2(edges=agglom3, colors=d1, color_col='taz20')"
   ]
  },
  {
   "cell_type": "code",
   "execution_count": null,
   "id": "aa31c88d",
   "metadata": {},
   "outputs": [],
   "source": [
    "agglom3full = aggregate_zones_within_districts(\n",
    "    mgra, \n",
    "    cluster_factors=cluster_factors, \n",
    "    cluster_factors_onehot={'taz':100},\n",
    "    n_zones=2000,\n",
    "    method='agglom_adj', \n",
    "    use_xy=1e-4,\n",
    "    explicit_agg=[\n",
    "        14571, 14574, 14578, \n",
    "        [15300, 15303, 15304, 15305],\n",
    "    ],\n",
    ")"
   ]
  },
  {
   "cell_type": "code",
   "execution_count": null,
   "id": "18d6902a",
   "metadata": {},
   "outputs": [],
   "source": [
    "viewer2(edges=agglom3full, colors=agglom3full, color_col='empden')"
   ]
  },
  {
   "cell_type": "code",
   "execution_count": null,
   "id": "391a94af",
   "metadata": {},
   "outputs": [],
   "source": []
  }
 ],
 "metadata": {
  "kernelspec": {
   "display_name": "Python 3 (ipykernel)",
   "language": "python",
   "name": "python3"
  },
  "language_info": {
   "codemirror_mode": {
    "name": "ipython",
    "version": 3
   },
   "file_extension": ".py",
   "mimetype": "text/x-python",
   "name": "python",
   "nbconvert_exporter": "python",
   "pygments_lexer": "ipython3",
   "version": "3.9.10"
  },
  "toc": {
   "base_numbering": 1,
   "nav_menu": {},
   "number_sections": false,
   "sideBar": true,
   "skip_h1_title": false,
   "title_cell": "Table of Contents",
   "title_sidebar": "Contents",
   "toc_cell": false,
   "toc_position": {},
   "toc_section_display": true,
   "toc_window_display": false
  }
 },
 "nbformat": 4,
 "nbformat_minor": 5
}
