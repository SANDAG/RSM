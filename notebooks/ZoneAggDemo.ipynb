{
 "cells": [
  {
   "cell_type": "code",
   "execution_count": null,
   "id": "4fc00298",
   "metadata": {},
   "outputs": [],
   "source": [
    "from sandag_rsm.data_load.zones import load_mgra_data\n",
    "from sandag_rsm.data_load.triplist import load_trip_list, trip_mode_shares_by_mgra, trip_mode_shares_by_taz\n",
    "from sandag_rsm.poi import poi_taz_mgra, attach_poi_taz_skims\n",
    "from sandag_rsm.zone_agg import aggregate_zones, viewer, viewer2, aggregate_zones_within_districts, merge_zone_data"
   ]
  },
  {
   "cell_type": "code",
   "execution_count": null,
   "id": "b67524d3",
   "metadata": {},
   "outputs": [],
   "source": [
    "data_dir = \"../test/data\""
   ]
  },
  {
   "cell_type": "code",
   "execution_count": null,
   "id": "c88b96b5",
   "metadata": {},
   "outputs": [],
   "source": [
    "mgra = load_mgra_data(data_dir=data_dir, simplify_tolerance=10, topo=True)"
   ]
  },
  {
   "cell_type": "code",
   "execution_count": null,
   "id": "ae5d7f1c",
   "metadata": {},
   "outputs": [],
   "source": [
    "mgra['taz20'] = mgra.taz % 20"
   ]
  },
  {
   "cell_type": "code",
   "execution_count": null,
   "id": "e6d1c5ef",
   "metadata": {},
   "outputs": [],
   "source": [
    "trips = load_trip_list(\"trips_sample.pq\", data_dir=data_dir)"
   ]
  },
  {
   "cell_type": "code",
   "execution_count": null,
   "id": "4bb2cb35",
   "metadata": {},
   "outputs": [],
   "source": [
    "tazs = merge_zone_data(mgra, cluster_id=\"taz\")"
   ]
  },
  {
   "cell_type": "code",
   "execution_count": null,
   "id": "f3593b1c",
   "metadata": {},
   "outputs": [],
   "source": [
    "trip_mode_shares = trip_mode_shares_by_taz(trips, tazs=tazs.index, mgra_gdf=mgra)"
   ]
  },
  {
   "cell_type": "code",
   "execution_count": null,
   "id": "e64f7a0b",
   "metadata": {},
   "outputs": [],
   "source": [
    "tazs = tazs.join(trip_mode_shares.add_prefix(\"modeshare_\"), on='taz')"
   ]
  },
  {
   "cell_type": "code",
   "execution_count": null,
   "id": "65c404fa",
   "metadata": {},
   "outputs": [],
   "source": [
    "poi = poi_taz_mgra(mgra)"
   ]
  },
  {
   "cell_type": "code",
   "execution_count": null,
   "id": "569cfadc",
   "metadata": {},
   "outputs": [],
   "source": [
    "poi"
   ]
  },
  {
   "cell_type": "code",
   "execution_count": null,
   "id": "2c974741",
   "metadata": {},
   "outputs": [],
   "source": [
    "cluster_factors={'popden':1, 'empden':1, 'modeshare_NM':100, 'modeshare_WT':100}"
   ]
  },
  {
   "cell_type": "code",
   "execution_count": null,
   "id": "6cd4cee2",
   "metadata": {},
   "outputs": [],
   "source": [
    "tazs, cluster_factors = attach_poi_taz_skims(\n",
    "    tazs,\n",
    "    \"traffic_skims_AM_mini.omx\",\n",
    "    names='AM_SOV_TR_M_TIME',\n",
    "    poi=poi,\n",
    "    data_dir=data_dir,\n",
    "    cluster_factors=cluster_factors,\n",
    ")"
   ]
  },
  {
   "cell_type": "code",
   "execution_count": null,
   "id": "772c319e",
   "metadata": {},
   "outputs": [],
   "source": [
    "explicit_agg=[\n",
    "    571, 588, 606, \n",
    "    [143, 270, 15],\n",
    "]\n"
   ]
  },
  {
   "cell_type": "code",
   "execution_count": null,
   "id": "2f7c2125",
   "metadata": {},
   "outputs": [],
   "source": [
    "d1 = tazs.query(\"district27 == 1\")"
   ]
  },
  {
   "cell_type": "code",
   "execution_count": null,
   "id": "a93bd34a",
   "metadata": {},
   "outputs": [],
   "source": [
    "viewer(d1, color='popden', marker_line_width=0)"
   ]
  },
  {
   "cell_type": "code",
   "execution_count": null,
   "id": "073d0c19",
   "metadata": {},
   "outputs": [],
   "source": [
    "viewer(d1, color='outside_pendleton_gate_AM_SOV_TR_M_TIME', marker_line_width=0)"
   ]
  },
  {
   "cell_type": "code",
   "execution_count": null,
   "id": "f66915c5",
   "metadata": {},
   "outputs": [],
   "source": [
    "viewer(d1, color='modeshare_WT', marker_line_width=0)"
   ]
  },
  {
   "cell_type": "code",
   "execution_count": null,
   "id": "61b2c6c7",
   "metadata": {},
   "outputs": [],
   "source": [
    "# import itertools\n",
    "# cluster_factors={'popden':1, 'empden':1, 'modeshare_NM':100, 'modeshare_WT':100}\n",
    "# cluster_factors |= {f\"{i}_{j}\":1 for i,j in itertools.product(poi.keys(), ['AM_SOV_TR_M_TIME'])}\n",
    "cluster_factors"
   ]
  },
  {
   "cell_type": "code",
   "execution_count": null,
   "id": "3234d883",
   "metadata": {},
   "outputs": [],
   "source": [
    "kmeans1 = aggregate_zones(\n",
    "    d1, \n",
    "    cluster_factors=cluster_factors, \n",
    "    n_zones=100,\n",
    "    explicit_agg=explicit_agg,\n",
    "    explicit_col='taz',\n",
    "    use_xy=1e-6,\n",
    ")"
   ]
  },
  {
   "cell_type": "code",
   "execution_count": null,
   "id": "b50a4bc3",
   "metadata": {},
   "outputs": [],
   "source": [
    "viewer2(edges=kmeans1, colors=d1, color_col='empden')"
   ]
  },
  {
   "cell_type": "code",
   "execution_count": null,
   "id": "1a760ac4",
   "metadata": {},
   "outputs": [],
   "source": []
  },
  {
   "cell_type": "code",
   "execution_count": null,
   "id": "872ac31b",
   "metadata": {},
   "outputs": [],
   "source": [
    "from sandag_rsm.zone_agg import aggregate_zones_within_districts\n",
    "\n",
    "kmeans = aggregate_zones_within_districts(\n",
    "    tazs, \n",
    "    cluster_factors=cluster_factors, \n",
    "    n_zones=1000,\n",
    "    use_xy=1e-6,\n",
    "    explicit_agg=explicit_agg,\n",
    "    explicit_col='taz',\n",
    ")"
   ]
  },
  {
   "cell_type": "code",
   "execution_count": null,
   "id": "f5d6cd56",
   "metadata": {},
   "outputs": [],
   "source": [
    "kmeans = kmeans.reset_index(drop=True)"
   ]
  },
  {
   "cell_type": "code",
   "execution_count": null,
   "id": "7e7b56ea",
   "metadata": {},
   "outputs": [],
   "source": [
    "viewer2(edges=kmeans, colors=kmeans, color_col='empden')"
   ]
  },
  {
   "cell_type": "code",
   "execution_count": null,
   "id": "aa31c88d",
   "metadata": {},
   "outputs": [],
   "source": [
    "agglom3full = aggregate_zones_within_districts(\n",
    "    tazs, \n",
    "    cluster_factors=cluster_factors, \n",
    "    n_zones=2000,\n",
    "    method='agglom_adj', \n",
    "    use_xy=1e-4,\n",
    "    explicit_agg=explicit_agg,\n",
    "    explicit_col='taz',\n",
    ")"
   ]
  },
  {
   "cell_type": "code",
   "execution_count": null,
   "id": "18d6902a",
   "metadata": {},
   "outputs": [],
   "source": [
    "viewer2(edges=agglom3full, colors=agglom3full, color_col='empden')"
   ]
  },
  {
   "cell_type": "code",
   "execution_count": null,
   "id": "391a94af",
   "metadata": {},
   "outputs": [],
   "source": [
    "viewer2(edges=agglom3full, colors=agglom3full, color_col='popden')"
   ]
  },
  {
   "cell_type": "code",
   "execution_count": null,
   "id": "ba9b4203",
   "metadata": {},
   "outputs": [],
   "source": []
  }
 ],
 "metadata": {
  "kernelspec": {
   "display_name": "Python 3 (ipykernel)",
   "language": "python",
   "name": "python3"
  },
  "language_info": {
   "codemirror_mode": {
    "name": "ipython",
    "version": 3
   },
   "file_extension": ".py",
   "mimetype": "text/x-python",
   "name": "python",
   "nbconvert_exporter": "python",
   "pygments_lexer": "ipython3",
   "version": "3.9.10"
  },
  "toc": {
   "base_numbering": 1,
   "nav_menu": {},
   "number_sections": false,
   "sideBar": true,
   "skip_h1_title": false,
   "title_cell": "Table of Contents",
   "title_sidebar": "Contents",
   "toc_cell": false,
   "toc_position": {},
   "toc_section_display": true,
   "toc_window_display": false
  }
 },
 "nbformat": 4,
 "nbformat_minor": 5
}
