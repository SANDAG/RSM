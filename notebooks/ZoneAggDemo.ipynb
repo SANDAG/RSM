{
 "cells": [
  {
   "cell_type": "code",
   "execution_count": null,
   "id": "a845c147",
   "metadata": {
    "pycharm": {
     "name": "#%%\n"
    }
   },
   "outputs": [],
   "source": [
    "import os\n",
    "\n",
    "from sandag_rsm.data_load.zones import load_mgra_data\n",
    "from sandag_rsm.data_load.triplist import load_trip_list, trip_mode_shares_by_mgra, \\\n",
    "    trip_mode_shares_by_taz\n",
    "from sandag_rsm.poi import poi_taz_mgra, attach_poi_taz_skims\n",
    "from sandag_rsm.zone_agg import aggregate_zones, viewer, viewer2, \\\n",
    "    aggregate_zones_within_districts, merge_zone_data, make_crosswalk, \\\n",
    "    mark_centroids"
   ]
  },
  {
   "cell_type": "markdown",
   "id": "73a4f97c",
   "metadata": {
    "pycharm": {
     "name": "#%% md\n"
    }
   },
   "source": [
    "## Remote I/O"
   ]
  },
  {
   "cell_type": "code",
   "execution_count": null,
   "id": "542ccfa1",
   "metadata": {
    "pycharm": {
     "name": "#%%\n"
    }
   },
   "outputs": [],
   "source": [
    "from sandag_rsm.data_load import get_test_file\n",
    "data_dir = \"./data-dl/\"\n",
    "\n",
    "mgra_filename = \"mgra13_based_input2016.csv.gz\"\n",
    "skim_filename = \"traffic_skims_AM_mini.omx\"\n",
    "trips_filename = \"trips_sample.pq\"\n",
    "\n",
    "get_test_file([\n",
    "    mgra_filename, \n",
    "    trips_filename, \n",
    "    skim_filename, \n",
    "], data_dir)"
   ]
  },
  {
   "cell_type": "markdown",
   "id": "4b5e3239",
   "metadata": {},
   "source": [
    "## Demo"
   ]
  },
  {
   "cell_type": "code",
   "execution_count": null,
   "id": "b8dc27e3",
   "metadata": {},
   "outputs": [],
   "source": [
    "mgra = load_mgra_data(data_dir=data_dir, simplify_tolerance=10, topo=True)"
   ]
  },
  {
   "cell_type": "code",
   "execution_count": null,
   "id": "ae5d7f1c",
   "metadata": {
    "pycharm": {
     "name": "#%%\n"
    }
   },
   "outputs": [],
   "source": [
    "mgra['taz20'] = mgra.taz % 20"
   ]
  },
  {
   "cell_type": "code",
   "execution_count": null,
   "id": "e6d1c5ef",
   "metadata": {
    "pycharm": {
     "name": "#%%\n"
    }
   },
   "outputs": [],
   "source": [
    "trips = load_trip_list(\"trips_sample.pq\", data_dir=data_dir)"
   ]
  },
  {
   "cell_type": "code",
   "execution_count": null,
   "id": "4bb2cb35",
   "metadata": {
    "pycharm": {
     "name": "#%%\n"
    }
   },
   "outputs": [],
   "source": [
    "tazs = merge_zone_data(mgra, cluster_id=\"taz\")"
   ]
  },
  {
   "cell_type": "code",
   "execution_count": null,
   "id": "f3593b1c",
   "metadata": {
    "pycharm": {
     "name": "#%%\n"
    }
   },
   "outputs": [],
   "source": [
    "trip_mode_shares = trip_mode_shares_by_taz(trips, tazs=tazs.index, mgra_gdf=mgra)"
   ]
  },
  {
   "cell_type": "code",
   "execution_count": null,
   "id": "e64f7a0b",
   "metadata": {
    "pycharm": {
     "name": "#%%\n"
    }
   },
   "outputs": [],
   "source": [
    "tazs = tazs.join(trip_mode_shares.add_prefix(\"modeshare_\"), on='taz')"
   ]
  },
  {
   "cell_type": "code",
   "execution_count": null,
   "id": "65c404fa",
   "metadata": {
    "pycharm": {
     "name": "#%%\n"
    }
   },
   "outputs": [],
   "source": [
    "poi = poi_taz_mgra(mgra)"
   ]
  },
  {
   "cell_type": "code",
   "execution_count": null,
   "id": "569cfadc",
   "metadata": {
    "pycharm": {
     "name": "#%%\n"
    }
   },
   "outputs": [],
   "source": [
    "poi"
   ]
  },
  {
   "cell_type": "code",
   "execution_count": null,
   "id": "2c974741",
   "metadata": {
    "pycharm": {
     "name": "#%%\n"
    }
   },
   "outputs": [],
   "source": [
    "cluster_factors={'popden':1, 'empden':1, 'modeshare_NM':100, 'modeshare_WT':100}"
   ]
  },
  {
   "cell_type": "code",
   "execution_count": null,
   "id": "6cd4cee2",
   "metadata": {
    "pycharm": {
     "name": "#%%\n"
    }
   },
   "outputs": [],
   "source": [
    "tazs, cluster_factors = attach_poi_taz_skims(\n",
    "    tazs,\n",
    "    \"traffic_skims_AM_mini.omx\",\n",
    "    names='AM_SOV_TR_M_TIME',\n",
    "    poi=poi,\n",
    "    data_dir=data_dir,\n",
    "    cluster_factors=cluster_factors,\n",
    ")"
   ]
  },
  {
   "cell_type": "code",
   "execution_count": null,
   "id": "772c319e",
   "metadata": {
    "pycharm": {
     "name": "#%%\n"
    }
   },
   "outputs": [],
   "source": [
    "explicit_agg=[\n",
    "#     571, 588, 606, \n",
    "#     [143, 270, 15],\n",
    "]\n"
   ]
  },
  {
   "cell_type": "code",
   "execution_count": null,
   "id": "2f7c2125",
   "metadata": {
    "pycharm": {
     "name": "#%%\n"
    }
   },
   "outputs": [],
   "source": [
    "d1 = tazs.query(\"district27 == 1\")"
   ]
  },
  {
   "cell_type": "code",
   "execution_count": null,
   "id": "a93bd34a",
   "metadata": {
    "pycharm": {
     "name": "#%%\n"
    }
   },
   "outputs": [],
   "source": [
    "viewer(d1, color='popden', marker_line_width=0)"
   ]
  },
  {
   "cell_type": "code",
   "execution_count": null,
   "id": "073d0c19",
   "metadata": {
    "pycharm": {
     "name": "#%%\n"
    }
   },
   "outputs": [],
   "source": [
    "viewer(d1, color='outside_pendleton_gate_AM_SOV_TR_M_TIME', marker_line_width=0)"
   ]
  },
  {
   "cell_type": "code",
   "execution_count": null,
   "id": "f66915c5",
   "metadata": {
    "pycharm": {
     "name": "#%%\n"
    }
   },
   "outputs": [],
   "source": [
    "viewer(d1, color='modeshare_WT', marker_line_width=0)"
   ]
  },
  {
   "cell_type": "code",
   "execution_count": null,
   "id": "61b2c6c7",
   "metadata": {
    "pycharm": {
     "name": "#%%\n"
    }
   },
   "outputs": [],
   "source": [
    "cluster_factors"
   ]
  },
  {
   "cell_type": "code",
   "execution_count": null,
   "id": "3234d883",
   "metadata": {
    "pycharm": {
     "name": "#%%\n"
    }
   },
   "outputs": [],
   "source": [
    "kmeans1 = aggregate_zones(\n",
    "    d1, \n",
    "    cluster_factors=cluster_factors, \n",
    "    n_zones=100,\n",
    "    explicit_agg=explicit_agg,\n",
    "    explicit_col='taz',\n",
    "    use_xy=1e-6,\n",
    ")"
   ]
  },
  {
   "cell_type": "code",
   "execution_count": null,
   "id": "b50a4bc3",
   "metadata": {
    "pycharm": {
     "name": "#%%\n"
    }
   },
   "outputs": [],
   "source": [
    "viewer2(edges=kmeans1, colors=d1, color_col='empden')"
   ]
  },
  {
   "cell_type": "code",
   "execution_count": null,
   "id": "872ac31b",
   "metadata": {
    "pycharm": {
     "name": "#%%\n"
    }
   },
   "outputs": [],
   "source": [
    "from sandag_rsm.zone_agg import aggregate_zones_within_districts\n",
    "\n",
    "kmeans = aggregate_zones_within_districts(\n",
    "    tazs, \n",
    "    cluster_factors=cluster_factors, \n",
    "    n_zones=1000,\n",
    "    use_xy=1e-6,\n",
    "    explicit_agg=explicit_agg,\n",
    "    explicit_col='taz',\n",
    ")"
   ]
  },
  {
   "cell_type": "code",
   "execution_count": null,
   "id": "f5d6cd56",
   "metadata": {
    "pycharm": {
     "name": "#%%\n"
    }
   },
   "outputs": [],
   "source": [
    "kmeans = kmeans.reset_index(drop=True)"
   ]
  },
  {
   "cell_type": "code",
   "execution_count": null,
   "id": "7e7b56ea",
   "metadata": {
    "pycharm": {
     "name": "#%%\n"
    }
   },
   "outputs": [],
   "source": [
    "viewer2(edges=kmeans, colors=kmeans, color_col='empden')"
   ]
  },
  {
   "cell_type": "code",
   "execution_count": null,
   "id": "aa31c88d",
   "metadata": {
    "pycharm": {
     "name": "#%%\n"
    }
   },
   "outputs": [],
   "source": [
    "agglom3full = aggregate_zones(\n",
    "    tazs, \n",
    "    cluster_factors=cluster_factors, \n",
    "    n_zones=2000,\n",
    "    method='agglom_adj', \n",
    "    use_xy=1e-4,\n",
    "    explicit_agg=explicit_agg,\n",
    "    explicit_col='taz',\n",
    ")"
   ]
  },
  {
   "cell_type": "code",
   "execution_count": null,
   "id": "7e8cec6a",
   "metadata": {
    "pycharm": {
     "name": "#%%\n"
    }
   },
   "outputs": [],
   "source": [
    "taz_crosswalk = make_crosswalk(agglom3full, tazs, old_index='taz').sort_values('taz')"
   ]
  },
  {
   "cell_type": "code",
   "execution_count": null,
   "id": "736eac0a",
   "metadata": {
    "pycharm": {
     "name": "#%%\n"
    }
   },
   "outputs": [],
   "source": [
    "mgra_crosswalk = make_crosswalk(agglom3full, mgra, old_index='MGRA').sort_values('MGRA')"
   ]
  },
  {
   "cell_type": "code",
   "execution_count": null,
   "id": "71956608",
   "metadata": {
    "pycharm": {
     "name": "#%%\n"
    }
   },
   "outputs": [],
   "source": [
    "agglom3full = mark_centroids(agglom3full)"
   ]
  },
  {
   "cell_type": "code",
   "execution_count": null,
   "id": "a11469a8",
   "metadata": {
    "pycharm": {
     "name": "#%%\n"
    }
   },
   "outputs": [],
   "source": [
    "mgra_crosswalk.to_csv(\"mgra_crosswalk.csv\", index=False)"
   ]
  },
  {
   "cell_type": "code",
   "execution_count": null,
   "id": "00c3e83e",
   "metadata": {
    "pycharm": {
     "name": "#%%\n"
    }
   },
   "outputs": [],
   "source": [
    "taz_crosswalk.to_csv(\"taz_crosswalk.csv\", index=False)"
   ]
  },
  {
   "cell_type": "code",
   "execution_count": null,
   "id": "ecdfc521",
   "metadata": {
    "pycharm": {
     "name": "#%%\n"
    }
   },
   "outputs": [],
   "source": [
    "agglom3full.to_csv(\"cluster_zones.csv\", index=False)"
   ]
  },
  {
   "cell_type": "code",
   "execution_count": null,
   "id": "18d6902a",
   "metadata": {
    "pycharm": {
     "name": "#%%\n"
    }
   },
   "outputs": [],
   "source": [
    "viewer2(edges=agglom3full, colors=agglom3full, color_col='empden')"
   ]
  },
  {
   "cell_type": "code",
   "execution_count": null,
   "id": "391a94af",
   "metadata": {
    "pycharm": {
     "name": "#%%\n"
    }
   },
   "outputs": [],
   "source": [
    "viewer2(edges=agglom3full, colors=agglom3full, color_col='popden')"
   ]
  }
 ],
 "metadata": {
  "kernelspec": {
   "display_name": "Python 3 (ipykernel)",
   "language": "python",
   "name": "python3"
  },
  "language_info": {
   "codemirror_mode": {
    "name": "ipython",
    "version": 3
   },
   "file_extension": ".py",
   "mimetype": "text/x-python",
   "name": "python",
   "nbconvert_exporter": "python",
   "pygments_lexer": "ipython3",
   "version": "3.10.6"
  },
  "toc": {
   "base_numbering": 1,
   "nav_menu": {},
   "number_sections": false,
   "sideBar": true,
   "skip_h1_title": false,
   "title_cell": "Table of Contents",
   "title_sidebar": "Contents",
   "toc_cell": false,
   "toc_position": {},
   "toc_section_display": true,
   "toc_window_display": false
  }
 },
 "nbformat": 4,
 "nbformat_minor": 5
}
